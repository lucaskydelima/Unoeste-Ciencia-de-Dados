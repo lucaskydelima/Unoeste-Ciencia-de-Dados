{
  "nbformat": 4,
  "nbformat_minor": 0,
  "metadata": {
    "colab": {
      "provenance": [],
      "authorship_tag": "ABX9TyO0noLDiYuzXXgFM6jPtyQi",
      "include_colab_link": true
    },
    "kernelspec": {
      "name": "ir",
      "display_name": "R"
    },
    "language_info": {
      "name": "R"
    }
  },
  "cells": [
    {
      "cell_type": "markdown",
      "metadata": {
        "id": "view-in-github",
        "colab_type": "text"
      },
      "source": [
        "<a href=\"https://colab.research.google.com/github/lucaskydelima/Unoeste-Ciencia-de-Dados/blob/main/Aula02_R.ipynb\" target=\"_parent\"><img src=\"https://colab.research.google.com/assets/colab-badge.svg\" alt=\"Open In Colab\"/></a>"
      ]
    },
    {
      "cell_type": "code",
      "execution_count": 107,
      "metadata": {
        "id": "oN_EwtHOF3tw"
      },
      "outputs": [],
      "source": [
        "# Importar o arquivo 'filmes.csv'\n",
        "dados <- read.csv('filmes.csv')"
      ]
    },
    {
      "cell_type": "code",
      "source": [
        "# Imprimir as primeiras linhas da tabela 'Filmes'\n",
        "head(dados)"
      ],
      "metadata": {
        "colab": {
          "base_uri": "https://localhost:8080/",
          "height": 286
        },
        "id": "5dUyCWi4CsSC",
        "outputId": "b3a55435-b151-437b-cfc0-c5a6210328a8"
      },
      "execution_count": 108,
      "outputs": [
        {
          "output_type": "display_data",
          "data": {
            "text/html": [
              "<table class=\"dataframe\">\n",
              "<caption>A data.frame: 6 × 7</caption>\n",
              "<thead>\n",
              "\t<tr><th></th><th scope=col>Titulo</th><th scope=col>Producao</th><th scope=col>Classificacao</th><th scope=col>Gasto</th><th scope=col>Renda</th><th scope=col>Duracao</th><th scope=col>TaxaEspectadores</th></tr>\n",
              "\t<tr><th></th><th scope=col>&lt;chr&gt;</th><th scope=col>&lt;int&gt;</th><th scope=col>&lt;chr&gt;</th><th scope=col>&lt;dbl&gt;</th><th scope=col>&lt;dbl&gt;</th><th scope=col>&lt;int&gt;</th><th scope=col>&lt;dbl&gt;</th></tr>\n",
              "</thead>\n",
              "<tbody>\n",
              "\t<tr><th scope=row>1</th><td>Aliens            </td><td>1986</td><td>R    </td><td> 18.50</td><td> 81.843</td><td>137</td><td>8.2</td></tr>\n",
              "\t<tr><th scope=row>2</th><td>Armageddon        </td><td>1998</td><td>PG-13</td><td>140.00</td><td>194.125</td><td>144</td><td>6.7</td></tr>\n",
              "\t<tr><th scope=row>3</th><td>As Good As It Gets</td><td>1997</td><td>PG-13</td><td> 50.00</td><td>147.540</td><td>138</td><td>8.1</td></tr>\n",
              "\t<tr><th scope=row>4</th><td>Braveheart        </td><td>1995</td><td>R    </td><td> 72.00</td><td> 75.600</td><td>177</td><td>8.3</td></tr>\n",
              "\t<tr><th scope=row>5</th><td>Chasing Amy       </td><td>1997</td><td>R    </td><td>  0.25</td><td> 12.006</td><td>105</td><td>7.9</td></tr>\n",
              "\t<tr><th scope=row>6</th><td>Contact           </td><td>1997</td><td>PG   </td><td> 90.00</td><td>100.853</td><td>153</td><td>8.3</td></tr>\n",
              "</tbody>\n",
              "</table>\n"
            ],
            "text/markdown": "\nA data.frame: 6 × 7\n\n| <!--/--> | Titulo &lt;chr&gt; | Producao &lt;int&gt; | Classificacao &lt;chr&gt; | Gasto &lt;dbl&gt; | Renda &lt;dbl&gt; | Duracao &lt;int&gt; | TaxaEspectadores &lt;dbl&gt; |\n|---|---|---|---|---|---|---|---|\n| 1 | Aliens             | 1986 | R     |  18.50 |  81.843 | 137 | 8.2 |\n| 2 | Armageddon         | 1998 | PG-13 | 140.00 | 194.125 | 144 | 6.7 |\n| 3 | As Good As It Gets | 1997 | PG-13 |  50.00 | 147.540 | 138 | 8.1 |\n| 4 | Braveheart         | 1995 | R     |  72.00 |  75.600 | 177 | 8.3 |\n| 5 | Chasing Amy        | 1997 | R     |   0.25 |  12.006 | 105 | 7.9 |\n| 6 | Contact            | 1997 | PG    |  90.00 | 100.853 | 153 | 8.3 |\n\n",
            "text/latex": "A data.frame: 6 × 7\n\\begin{tabular}{r|lllllll}\n  & Titulo & Producao & Classificacao & Gasto & Renda & Duracao & TaxaEspectadores\\\\\n  & <chr> & <int> & <chr> & <dbl> & <dbl> & <int> & <dbl>\\\\\n\\hline\n\t1 & Aliens             & 1986 & R     &  18.50 &  81.843 & 137 & 8.2\\\\\n\t2 & Armageddon         & 1998 & PG-13 & 140.00 & 194.125 & 144 & 6.7\\\\\n\t3 & As Good As It Gets & 1997 & PG-13 &  50.00 & 147.540 & 138 & 8.1\\\\\n\t4 & Braveheart         & 1995 & R     &  72.00 &  75.600 & 177 & 8.3\\\\\n\t5 & Chasing Amy        & 1997 & R     &   0.25 &  12.006 & 105 & 7.9\\\\\n\t6 & Contact            & 1997 & PG    &  90.00 & 100.853 & 153 & 8.3\\\\\n\\end{tabular}\n",
            "text/plain": [
              "  Titulo             Producao Classificacao Gasto  Renda   Duracao\n",
              "1 Aliens             1986     R              18.50  81.843 137    \n",
              "2 Armageddon         1998     PG-13         140.00 194.125 144    \n",
              "3 As Good As It Gets 1997     PG-13          50.00 147.540 138    \n",
              "4 Braveheart         1995     R              72.00  75.600 177    \n",
              "5 Chasing Amy        1997     R               0.25  12.006 105    \n",
              "6 Contact            1997     PG             90.00 100.853 153    \n",
              "  TaxaEspectadores\n",
              "1 8.2             \n",
              "2 6.7             \n",
              "3 8.1             \n",
              "4 8.3             \n",
              "5 7.9             \n",
              "6 8.3             "
            ]
          },
          "metadata": {}
        }
      ]
    },
    {
      "cell_type": "markdown",
      "source": [
        "# 1) Identificar o filme com maior lucro"
      ],
      "metadata": {
        "id": "zhvueMXNFQPO"
      }
    },
    {
      "cell_type": "code",
      "source": [
        "# Calcular a métrica 'Lucro' com duas casas decimais.\n",
        "Lucro <- round(dados$Renda - dados$Gasto, digits = 2)\n",
        "\n",
        "# Criar a coluna 'Lucro' com os valores calculados.\n",
        "dados <- cbind(dados, Lucro)\n",
        "head(dados)"
      ],
      "metadata": {
        "colab": {
          "base_uri": "https://localhost:8080/",
          "height": 286
        },
        "id": "XaeToHMXDcGh",
        "outputId": "09cbf205-df6c-4b59-e439-d3b84177e3e9"
      },
      "execution_count": 109,
      "outputs": [
        {
          "output_type": "display_data",
          "data": {
            "text/html": [
              "<table class=\"dataframe\">\n",
              "<caption>A data.frame: 6 × 8</caption>\n",
              "<thead>\n",
              "\t<tr><th></th><th scope=col>Titulo</th><th scope=col>Producao</th><th scope=col>Classificacao</th><th scope=col>Gasto</th><th scope=col>Renda</th><th scope=col>Duracao</th><th scope=col>TaxaEspectadores</th><th scope=col>Lucro</th></tr>\n",
              "\t<tr><th></th><th scope=col>&lt;chr&gt;</th><th scope=col>&lt;int&gt;</th><th scope=col>&lt;chr&gt;</th><th scope=col>&lt;dbl&gt;</th><th scope=col>&lt;dbl&gt;</th><th scope=col>&lt;int&gt;</th><th scope=col>&lt;dbl&gt;</th><th scope=col>&lt;dbl&gt;</th></tr>\n",
              "</thead>\n",
              "<tbody>\n",
              "\t<tr><th scope=row>1</th><td>Aliens            </td><td>1986</td><td>R    </td><td> 18.50</td><td> 81.843</td><td>137</td><td>8.2</td><td>63.34</td></tr>\n",
              "\t<tr><th scope=row>2</th><td>Armageddon        </td><td>1998</td><td>PG-13</td><td>140.00</td><td>194.125</td><td>144</td><td>6.7</td><td>54.12</td></tr>\n",
              "\t<tr><th scope=row>3</th><td>As Good As It Gets</td><td>1997</td><td>PG-13</td><td> 50.00</td><td>147.540</td><td>138</td><td>8.1</td><td>97.54</td></tr>\n",
              "\t<tr><th scope=row>4</th><td>Braveheart        </td><td>1995</td><td>R    </td><td> 72.00</td><td> 75.600</td><td>177</td><td>8.3</td><td> 3.60</td></tr>\n",
              "\t<tr><th scope=row>5</th><td>Chasing Amy       </td><td>1997</td><td>R    </td><td>  0.25</td><td> 12.006</td><td>105</td><td>7.9</td><td>11.76</td></tr>\n",
              "\t<tr><th scope=row>6</th><td>Contact           </td><td>1997</td><td>PG   </td><td> 90.00</td><td>100.853</td><td>153</td><td>8.3</td><td>10.85</td></tr>\n",
              "</tbody>\n",
              "</table>\n"
            ],
            "text/markdown": "\nA data.frame: 6 × 8\n\n| <!--/--> | Titulo &lt;chr&gt; | Producao &lt;int&gt; | Classificacao &lt;chr&gt; | Gasto &lt;dbl&gt; | Renda &lt;dbl&gt; | Duracao &lt;int&gt; | TaxaEspectadores &lt;dbl&gt; | Lucro &lt;dbl&gt; |\n|---|---|---|---|---|---|---|---|---|\n| 1 | Aliens             | 1986 | R     |  18.50 |  81.843 | 137 | 8.2 | 63.34 |\n| 2 | Armageddon         | 1998 | PG-13 | 140.00 | 194.125 | 144 | 6.7 | 54.12 |\n| 3 | As Good As It Gets | 1997 | PG-13 |  50.00 | 147.540 | 138 | 8.1 | 97.54 |\n| 4 | Braveheart         | 1995 | R     |  72.00 |  75.600 | 177 | 8.3 |  3.60 |\n| 5 | Chasing Amy        | 1997 | R     |   0.25 |  12.006 | 105 | 7.9 | 11.76 |\n| 6 | Contact            | 1997 | PG    |  90.00 | 100.853 | 153 | 8.3 | 10.85 |\n\n",
            "text/latex": "A data.frame: 6 × 8\n\\begin{tabular}{r|llllllll}\n  & Titulo & Producao & Classificacao & Gasto & Renda & Duracao & TaxaEspectadores & Lucro\\\\\n  & <chr> & <int> & <chr> & <dbl> & <dbl> & <int> & <dbl> & <dbl>\\\\\n\\hline\n\t1 & Aliens             & 1986 & R     &  18.50 &  81.843 & 137 & 8.2 & 63.34\\\\\n\t2 & Armageddon         & 1998 & PG-13 & 140.00 & 194.125 & 144 & 6.7 & 54.12\\\\\n\t3 & As Good As It Gets & 1997 & PG-13 &  50.00 & 147.540 & 138 & 8.1 & 97.54\\\\\n\t4 & Braveheart         & 1995 & R     &  72.00 &  75.600 & 177 & 8.3 &  3.60\\\\\n\t5 & Chasing Amy        & 1997 & R     &   0.25 &  12.006 & 105 & 7.9 & 11.76\\\\\n\t6 & Contact            & 1997 & PG    &  90.00 & 100.853 & 153 & 8.3 & 10.85\\\\\n\\end{tabular}\n",
            "text/plain": [
              "  Titulo             Producao Classificacao Gasto  Renda   Duracao\n",
              "1 Aliens             1986     R              18.50  81.843 137    \n",
              "2 Armageddon         1998     PG-13         140.00 194.125 144    \n",
              "3 As Good As It Gets 1997     PG-13          50.00 147.540 138    \n",
              "4 Braveheart         1995     R              72.00  75.600 177    \n",
              "5 Chasing Amy        1997     R               0.25  12.006 105    \n",
              "6 Contact            1997     PG             90.00 100.853 153    \n",
              "  TaxaEspectadores Lucro\n",
              "1 8.2              63.34\n",
              "2 6.7              54.12\n",
              "3 8.1              97.54\n",
              "4 8.3               3.60\n",
              "5 7.9              11.76\n",
              "6 8.3              10.85"
            ]
          },
          "metadata": {}
        }
      ]
    },
    {
      "cell_type": "code",
      "source": [
        "# Obter a linha cujo filme foi mais lucrativo.\n",
        "linha <- which.max(dados$Lucro)\n",
        "linha"
      ],
      "metadata": {
        "colab": {
          "base_uri": "https://localhost:8080/",
          "height": 34
        },
        "id": "q1ZV-nIvE-GB",
        "outputId": "f29aa2b2-e0aa-49d9-8fc6-d595b658bb4a"
      },
      "execution_count": 110,
      "outputs": [
        {
          "output_type": "display_data",
          "data": {
            "text/html": [
              "34"
            ],
            "text/markdown": "34",
            "text/latex": "34",
            "text/plain": [
              "[1] 34"
            ]
          },
          "metadata": {}
        }
      ]
    },
    {
      "cell_type": "code",
      "source": [
        "# Filtrar a tabela a partir da linha conhecida.\n",
        "dados[34,]"
      ],
      "metadata": {
        "colab": {
          "base_uri": "https://localhost:8080/",
          "height": 129
        },
        "id": "r4sR8sX9FOTv",
        "outputId": "9a95515a-7360-4b67-a419-3886cc61c23d"
      },
      "execution_count": 111,
      "outputs": [
        {
          "output_type": "display_data",
          "data": {
            "text/html": [
              "<table class=\"dataframe\">\n",
              "<caption>A data.frame: 1 × 8</caption>\n",
              "<thead>\n",
              "\t<tr><th></th><th scope=col>Titulo</th><th scope=col>Producao</th><th scope=col>Classificacao</th><th scope=col>Gasto</th><th scope=col>Renda</th><th scope=col>Duracao</th><th scope=col>TaxaEspectadores</th><th scope=col>Lucro</th></tr>\n",
              "\t<tr><th></th><th scope=col>&lt;chr&gt;</th><th scope=col>&lt;int&gt;</th><th scope=col>&lt;chr&gt;</th><th scope=col>&lt;dbl&gt;</th><th scope=col>&lt;dbl&gt;</th><th scope=col>&lt;int&gt;</th><th scope=col>&lt;dbl&gt;</th><th scope=col>&lt;dbl&gt;</th></tr>\n",
              "</thead>\n",
              "<tbody>\n",
              "\t<tr><th scope=row>34</th><td>Titanic</td><td>1997</td><td>PG-13</td><td>200</td><td>600.743</td><td>195</td><td>8.4</td><td>400.74</td></tr>\n",
              "</tbody>\n",
              "</table>\n"
            ],
            "text/markdown": "\nA data.frame: 1 × 8\n\n| <!--/--> | Titulo &lt;chr&gt; | Producao &lt;int&gt; | Classificacao &lt;chr&gt; | Gasto &lt;dbl&gt; | Renda &lt;dbl&gt; | Duracao &lt;int&gt; | TaxaEspectadores &lt;dbl&gt; | Lucro &lt;dbl&gt; |\n|---|---|---|---|---|---|---|---|---|\n| 34 | Titanic | 1997 | PG-13 | 200 | 600.743 | 195 | 8.4 | 400.74 |\n\n",
            "text/latex": "A data.frame: 1 × 8\n\\begin{tabular}{r|llllllll}\n  & Titulo & Producao & Classificacao & Gasto & Renda & Duracao & TaxaEspectadores & Lucro\\\\\n  & <chr> & <int> & <chr> & <dbl> & <dbl> & <int> & <dbl> & <dbl>\\\\\n\\hline\n\t34 & Titanic & 1997 & PG-13 & 200 & 600.743 & 195 & 8.4 & 400.74\\\\\n\\end{tabular}\n",
            "text/plain": [
              "   Titulo  Producao Classificacao Gasto Renda   Duracao TaxaEspectadores Lucro \n",
              "34 Titanic 1997     PG-13         200   600.743 195     8.4              400.74"
            ]
          },
          "metadata": {}
        }
      ]
    },
    {
      "cell_type": "markdown",
      "source": [
        "# 2) Filme com maior taxa de espectadores"
      ],
      "metadata": {
        "id": "CuFzxzCZFqld"
      }
    },
    {
      "cell_type": "code",
      "source": [
        "head(dados)"
      ],
      "metadata": {
        "colab": {
          "base_uri": "https://localhost:8080/",
          "height": 286
        },
        "id": "eu7PDt9_FyQl",
        "outputId": "caf16e08-78cc-46ee-9bdc-26dd69d4c1fe"
      },
      "execution_count": 112,
      "outputs": [
        {
          "output_type": "display_data",
          "data": {
            "text/html": [
              "<table class=\"dataframe\">\n",
              "<caption>A data.frame: 6 × 8</caption>\n",
              "<thead>\n",
              "\t<tr><th></th><th scope=col>Titulo</th><th scope=col>Producao</th><th scope=col>Classificacao</th><th scope=col>Gasto</th><th scope=col>Renda</th><th scope=col>Duracao</th><th scope=col>TaxaEspectadores</th><th scope=col>Lucro</th></tr>\n",
              "\t<tr><th></th><th scope=col>&lt;chr&gt;</th><th scope=col>&lt;int&gt;</th><th scope=col>&lt;chr&gt;</th><th scope=col>&lt;dbl&gt;</th><th scope=col>&lt;dbl&gt;</th><th scope=col>&lt;int&gt;</th><th scope=col>&lt;dbl&gt;</th><th scope=col>&lt;dbl&gt;</th></tr>\n",
              "</thead>\n",
              "<tbody>\n",
              "\t<tr><th scope=row>1</th><td>Aliens            </td><td>1986</td><td>R    </td><td> 18.50</td><td> 81.843</td><td>137</td><td>8.2</td><td>63.34</td></tr>\n",
              "\t<tr><th scope=row>2</th><td>Armageddon        </td><td>1998</td><td>PG-13</td><td>140.00</td><td>194.125</td><td>144</td><td>6.7</td><td>54.12</td></tr>\n",
              "\t<tr><th scope=row>3</th><td>As Good As It Gets</td><td>1997</td><td>PG-13</td><td> 50.00</td><td>147.540</td><td>138</td><td>8.1</td><td>97.54</td></tr>\n",
              "\t<tr><th scope=row>4</th><td>Braveheart        </td><td>1995</td><td>R    </td><td> 72.00</td><td> 75.600</td><td>177</td><td>8.3</td><td> 3.60</td></tr>\n",
              "\t<tr><th scope=row>5</th><td>Chasing Amy       </td><td>1997</td><td>R    </td><td>  0.25</td><td> 12.006</td><td>105</td><td>7.9</td><td>11.76</td></tr>\n",
              "\t<tr><th scope=row>6</th><td>Contact           </td><td>1997</td><td>PG   </td><td> 90.00</td><td>100.853</td><td>153</td><td>8.3</td><td>10.85</td></tr>\n",
              "</tbody>\n",
              "</table>\n"
            ],
            "text/markdown": "\nA data.frame: 6 × 8\n\n| <!--/--> | Titulo &lt;chr&gt; | Producao &lt;int&gt; | Classificacao &lt;chr&gt; | Gasto &lt;dbl&gt; | Renda &lt;dbl&gt; | Duracao &lt;int&gt; | TaxaEspectadores &lt;dbl&gt; | Lucro &lt;dbl&gt; |\n|---|---|---|---|---|---|---|---|---|\n| 1 | Aliens             | 1986 | R     |  18.50 |  81.843 | 137 | 8.2 | 63.34 |\n| 2 | Armageddon         | 1998 | PG-13 | 140.00 | 194.125 | 144 | 6.7 | 54.12 |\n| 3 | As Good As It Gets | 1997 | PG-13 |  50.00 | 147.540 | 138 | 8.1 | 97.54 |\n| 4 | Braveheart         | 1995 | R     |  72.00 |  75.600 | 177 | 8.3 |  3.60 |\n| 5 | Chasing Amy        | 1997 | R     |   0.25 |  12.006 | 105 | 7.9 | 11.76 |\n| 6 | Contact            | 1997 | PG    |  90.00 | 100.853 | 153 | 8.3 | 10.85 |\n\n",
            "text/latex": "A data.frame: 6 × 8\n\\begin{tabular}{r|llllllll}\n  & Titulo & Producao & Classificacao & Gasto & Renda & Duracao & TaxaEspectadores & Lucro\\\\\n  & <chr> & <int> & <chr> & <dbl> & <dbl> & <int> & <dbl> & <dbl>\\\\\n\\hline\n\t1 & Aliens             & 1986 & R     &  18.50 &  81.843 & 137 & 8.2 & 63.34\\\\\n\t2 & Armageddon         & 1998 & PG-13 & 140.00 & 194.125 & 144 & 6.7 & 54.12\\\\\n\t3 & As Good As It Gets & 1997 & PG-13 &  50.00 & 147.540 & 138 & 8.1 & 97.54\\\\\n\t4 & Braveheart         & 1995 & R     &  72.00 &  75.600 & 177 & 8.3 &  3.60\\\\\n\t5 & Chasing Amy        & 1997 & R     &   0.25 &  12.006 & 105 & 7.9 & 11.76\\\\\n\t6 & Contact            & 1997 & PG    &  90.00 & 100.853 & 153 & 8.3 & 10.85\\\\\n\\end{tabular}\n",
            "text/plain": [
              "  Titulo             Producao Classificacao Gasto  Renda   Duracao\n",
              "1 Aliens             1986     R              18.50  81.843 137    \n",
              "2 Armageddon         1998     PG-13         140.00 194.125 144    \n",
              "3 As Good As It Gets 1997     PG-13          50.00 147.540 138    \n",
              "4 Braveheart         1995     R              72.00  75.600 177    \n",
              "5 Chasing Amy        1997     R               0.25  12.006 105    \n",
              "6 Contact            1997     PG             90.00 100.853 153    \n",
              "  TaxaEspectadores Lucro\n",
              "1 8.2              63.34\n",
              "2 6.7              54.12\n",
              "3 8.1              97.54\n",
              "4 8.3               3.60\n",
              "5 7.9              11.76\n",
              "6 8.3              10.85"
            ]
          },
          "metadata": {}
        }
      ]
    },
    {
      "cell_type": "code",
      "source": [
        "# Obter a linha cujo filme teve a maior taxa de espectadores. \n",
        "linha <- which.max(dados$TaxaEspectadores)\n",
        "linha"
      ],
      "metadata": {
        "colab": {
          "base_uri": "https://localhost:8080/",
          "height": 34
        },
        "id": "fGmw89BzF4No",
        "outputId": "cd4b290d-6ab1-4426-8b17-b1c954923865"
      },
      "execution_count": 113,
      "outputs": [
        {
          "output_type": "display_data",
          "data": {
            "text/html": [
              "25"
            ],
            "text/markdown": "25",
            "text/latex": "25",
            "text/plain": [
              "[1] 25"
            ]
          },
          "metadata": {}
        }
      ]
    },
    {
      "cell_type": "code",
      "source": [
        "# Filtrar a tabela a partir da linha conhecida.\n",
        "dados[25,]"
      ],
      "metadata": {
        "colab": {
          "base_uri": "https://localhost:8080/",
          "height": 129
        },
        "id": "rLo5i2GfGJP3",
        "outputId": "3e883403-629f-4cc8-8639-0f52fbd2fc90"
      },
      "execution_count": 114,
      "outputs": [
        {
          "output_type": "display_data",
          "data": {
            "text/html": [
              "<table class=\"dataframe\">\n",
              "<caption>A data.frame: 1 × 8</caption>\n",
              "<thead>\n",
              "\t<tr><th></th><th scope=col>Titulo</th><th scope=col>Producao</th><th scope=col>Classificacao</th><th scope=col>Gasto</th><th scope=col>Renda</th><th scope=col>Duracao</th><th scope=col>TaxaEspectadores</th><th scope=col>Lucro</th></tr>\n",
              "\t<tr><th></th><th scope=col>&lt;chr&gt;</th><th scope=col>&lt;int&gt;</th><th scope=col>&lt;chr&gt;</th><th scope=col>&lt;dbl&gt;</th><th scope=col>&lt;dbl&gt;</th><th scope=col>&lt;int&gt;</th><th scope=col>&lt;dbl&gt;</th><th scope=col>&lt;dbl&gt;</th></tr>\n",
              "</thead>\n",
              "<tbody>\n",
              "\t<tr><th scope=row>25</th><td>Saving Private ryan</td><td>1998</td><td>R</td><td>70</td><td>178.091</td><td>170</td><td>9.1</td><td>108.09</td></tr>\n",
              "</tbody>\n",
              "</table>\n"
            ],
            "text/markdown": "\nA data.frame: 1 × 8\n\n| <!--/--> | Titulo &lt;chr&gt; | Producao &lt;int&gt; | Classificacao &lt;chr&gt; | Gasto &lt;dbl&gt; | Renda &lt;dbl&gt; | Duracao &lt;int&gt; | TaxaEspectadores &lt;dbl&gt; | Lucro &lt;dbl&gt; |\n|---|---|---|---|---|---|---|---|---|\n| 25 | Saving Private ryan | 1998 | R | 70 | 178.091 | 170 | 9.1 | 108.09 |\n\n",
            "text/latex": "A data.frame: 1 × 8\n\\begin{tabular}{r|llllllll}\n  & Titulo & Producao & Classificacao & Gasto & Renda & Duracao & TaxaEspectadores & Lucro\\\\\n  & <chr> & <int> & <chr> & <dbl> & <dbl> & <int> & <dbl> & <dbl>\\\\\n\\hline\n\t25 & Saving Private ryan & 1998 & R & 70 & 178.091 & 170 & 9.1 & 108.09\\\\\n\\end{tabular}\n",
            "text/plain": [
              "   Titulo              Producao Classificacao Gasto Renda   Duracao\n",
              "25 Saving Private ryan 1998     R             70    178.091 170    \n",
              "   TaxaEspectadores Lucro \n",
              "25 9.1              108.09"
            ]
          },
          "metadata": {}
        }
      ]
    },
    {
      "cell_type": "markdown",
      "source": [
        "# 3) Duração média dos filmes"
      ],
      "metadata": {
        "id": "ALiEOwiwHS2n"
      }
    },
    {
      "cell_type": "code",
      "source": [
        "head(dados)"
      ],
      "metadata": {
        "colab": {
          "base_uri": "https://localhost:8080/",
          "height": 286
        },
        "id": "W-mgp0c4HVfO",
        "outputId": "ff57836b-b94c-4545-b038-98b1684bacc6"
      },
      "execution_count": 115,
      "outputs": [
        {
          "output_type": "display_data",
          "data": {
            "text/html": [
              "<table class=\"dataframe\">\n",
              "<caption>A data.frame: 6 × 8</caption>\n",
              "<thead>\n",
              "\t<tr><th></th><th scope=col>Titulo</th><th scope=col>Producao</th><th scope=col>Classificacao</th><th scope=col>Gasto</th><th scope=col>Renda</th><th scope=col>Duracao</th><th scope=col>TaxaEspectadores</th><th scope=col>Lucro</th></tr>\n",
              "\t<tr><th></th><th scope=col>&lt;chr&gt;</th><th scope=col>&lt;int&gt;</th><th scope=col>&lt;chr&gt;</th><th scope=col>&lt;dbl&gt;</th><th scope=col>&lt;dbl&gt;</th><th scope=col>&lt;int&gt;</th><th scope=col>&lt;dbl&gt;</th><th scope=col>&lt;dbl&gt;</th></tr>\n",
              "</thead>\n",
              "<tbody>\n",
              "\t<tr><th scope=row>1</th><td>Aliens            </td><td>1986</td><td>R    </td><td> 18.50</td><td> 81.843</td><td>137</td><td>8.2</td><td>63.34</td></tr>\n",
              "\t<tr><th scope=row>2</th><td>Armageddon        </td><td>1998</td><td>PG-13</td><td>140.00</td><td>194.125</td><td>144</td><td>6.7</td><td>54.12</td></tr>\n",
              "\t<tr><th scope=row>3</th><td>As Good As It Gets</td><td>1997</td><td>PG-13</td><td> 50.00</td><td>147.540</td><td>138</td><td>8.1</td><td>97.54</td></tr>\n",
              "\t<tr><th scope=row>4</th><td>Braveheart        </td><td>1995</td><td>R    </td><td> 72.00</td><td> 75.600</td><td>177</td><td>8.3</td><td> 3.60</td></tr>\n",
              "\t<tr><th scope=row>5</th><td>Chasing Amy       </td><td>1997</td><td>R    </td><td>  0.25</td><td> 12.006</td><td>105</td><td>7.9</td><td>11.76</td></tr>\n",
              "\t<tr><th scope=row>6</th><td>Contact           </td><td>1997</td><td>PG   </td><td> 90.00</td><td>100.853</td><td>153</td><td>8.3</td><td>10.85</td></tr>\n",
              "</tbody>\n",
              "</table>\n"
            ],
            "text/markdown": "\nA data.frame: 6 × 8\n\n| <!--/--> | Titulo &lt;chr&gt; | Producao &lt;int&gt; | Classificacao &lt;chr&gt; | Gasto &lt;dbl&gt; | Renda &lt;dbl&gt; | Duracao &lt;int&gt; | TaxaEspectadores &lt;dbl&gt; | Lucro &lt;dbl&gt; |\n|---|---|---|---|---|---|---|---|---|\n| 1 | Aliens             | 1986 | R     |  18.50 |  81.843 | 137 | 8.2 | 63.34 |\n| 2 | Armageddon         | 1998 | PG-13 | 140.00 | 194.125 | 144 | 6.7 | 54.12 |\n| 3 | As Good As It Gets | 1997 | PG-13 |  50.00 | 147.540 | 138 | 8.1 | 97.54 |\n| 4 | Braveheart         | 1995 | R     |  72.00 |  75.600 | 177 | 8.3 |  3.60 |\n| 5 | Chasing Amy        | 1997 | R     |   0.25 |  12.006 | 105 | 7.9 | 11.76 |\n| 6 | Contact            | 1997 | PG    |  90.00 | 100.853 | 153 | 8.3 | 10.85 |\n\n",
            "text/latex": "A data.frame: 6 × 8\n\\begin{tabular}{r|llllllll}\n  & Titulo & Producao & Classificacao & Gasto & Renda & Duracao & TaxaEspectadores & Lucro\\\\\n  & <chr> & <int> & <chr> & <dbl> & <dbl> & <int> & <dbl> & <dbl>\\\\\n\\hline\n\t1 & Aliens             & 1986 & R     &  18.50 &  81.843 & 137 & 8.2 & 63.34\\\\\n\t2 & Armageddon         & 1998 & PG-13 & 140.00 & 194.125 & 144 & 6.7 & 54.12\\\\\n\t3 & As Good As It Gets & 1997 & PG-13 &  50.00 & 147.540 & 138 & 8.1 & 97.54\\\\\n\t4 & Braveheart         & 1995 & R     &  72.00 &  75.600 & 177 & 8.3 &  3.60\\\\\n\t5 & Chasing Amy        & 1997 & R     &   0.25 &  12.006 & 105 & 7.9 & 11.76\\\\\n\t6 & Contact            & 1997 & PG    &  90.00 & 100.853 & 153 & 8.3 & 10.85\\\\\n\\end{tabular}\n",
            "text/plain": [
              "  Titulo             Producao Classificacao Gasto  Renda   Duracao\n",
              "1 Aliens             1986     R              18.50  81.843 137    \n",
              "2 Armageddon         1998     PG-13         140.00 194.125 144    \n",
              "3 As Good As It Gets 1997     PG-13          50.00 147.540 138    \n",
              "4 Braveheart         1995     R              72.00  75.600 177    \n",
              "5 Chasing Amy        1997     R               0.25  12.006 105    \n",
              "6 Contact            1997     PG             90.00 100.853 153    \n",
              "  TaxaEspectadores Lucro\n",
              "1 8.2              63.34\n",
              "2 6.7              54.12\n",
              "3 8.1              97.54\n",
              "4 8.3               3.60\n",
              "5 7.9              11.76\n",
              "6 8.3              10.85"
            ]
          },
          "metadata": {}
        }
      ]
    },
    {
      "cell_type": "code",
      "source": [
        "# Calcular a média dos valores da coluna \"Duracao\" e apresentar o valor com duas casas decimais.\n",
        "duracaoMedia <- round(mean(dados$Duracao), digits = 2)\n",
        "duracaoMedia"
      ],
      "metadata": {
        "colab": {
          "base_uri": "https://localhost:8080/",
          "height": 34
        },
        "id": "n9Bp70-xHjzn",
        "outputId": "e35c55db-2d66-48dc-ad78-174da42851a9"
      },
      "execution_count": 116,
      "outputs": [
        {
          "output_type": "display_data",
          "data": {
            "text/html": [
              "132.11"
            ],
            "text/markdown": "132.11",
            "text/latex": "132.11",
            "text/plain": [
              "[1] 132.11"
            ]
          },
          "metadata": {}
        }
      ]
    },
    {
      "cell_type": "markdown",
      "source": [
        "# 4) O ano em que houve o maior número de filmes produzidos"
      ],
      "metadata": {
        "id": "qvucVTGKIFlw"
      }
    },
    {
      "cell_type": "code",
      "source": [
        "head(dados)"
      ],
      "metadata": {
        "colab": {
          "base_uri": "https://localhost:8080/",
          "height": 286
        },
        "id": "YfFP-cTjIL_T",
        "outputId": "9043322b-8a5c-410e-d935-4f9234f18a36"
      },
      "execution_count": 117,
      "outputs": [
        {
          "output_type": "display_data",
          "data": {
            "text/html": [
              "<table class=\"dataframe\">\n",
              "<caption>A data.frame: 6 × 8</caption>\n",
              "<thead>\n",
              "\t<tr><th></th><th scope=col>Titulo</th><th scope=col>Producao</th><th scope=col>Classificacao</th><th scope=col>Gasto</th><th scope=col>Renda</th><th scope=col>Duracao</th><th scope=col>TaxaEspectadores</th><th scope=col>Lucro</th></tr>\n",
              "\t<tr><th></th><th scope=col>&lt;chr&gt;</th><th scope=col>&lt;int&gt;</th><th scope=col>&lt;chr&gt;</th><th scope=col>&lt;dbl&gt;</th><th scope=col>&lt;dbl&gt;</th><th scope=col>&lt;int&gt;</th><th scope=col>&lt;dbl&gt;</th><th scope=col>&lt;dbl&gt;</th></tr>\n",
              "</thead>\n",
              "<tbody>\n",
              "\t<tr><th scope=row>1</th><td>Aliens            </td><td>1986</td><td>R    </td><td> 18.50</td><td> 81.843</td><td>137</td><td>8.2</td><td>63.34</td></tr>\n",
              "\t<tr><th scope=row>2</th><td>Armageddon        </td><td>1998</td><td>PG-13</td><td>140.00</td><td>194.125</td><td>144</td><td>6.7</td><td>54.12</td></tr>\n",
              "\t<tr><th scope=row>3</th><td>As Good As It Gets</td><td>1997</td><td>PG-13</td><td> 50.00</td><td>147.540</td><td>138</td><td>8.1</td><td>97.54</td></tr>\n",
              "\t<tr><th scope=row>4</th><td>Braveheart        </td><td>1995</td><td>R    </td><td> 72.00</td><td> 75.600</td><td>177</td><td>8.3</td><td> 3.60</td></tr>\n",
              "\t<tr><th scope=row>5</th><td>Chasing Amy       </td><td>1997</td><td>R    </td><td>  0.25</td><td> 12.006</td><td>105</td><td>7.9</td><td>11.76</td></tr>\n",
              "\t<tr><th scope=row>6</th><td>Contact           </td><td>1997</td><td>PG   </td><td> 90.00</td><td>100.853</td><td>153</td><td>8.3</td><td>10.85</td></tr>\n",
              "</tbody>\n",
              "</table>\n"
            ],
            "text/markdown": "\nA data.frame: 6 × 8\n\n| <!--/--> | Titulo &lt;chr&gt; | Producao &lt;int&gt; | Classificacao &lt;chr&gt; | Gasto &lt;dbl&gt; | Renda &lt;dbl&gt; | Duracao &lt;int&gt; | TaxaEspectadores &lt;dbl&gt; | Lucro &lt;dbl&gt; |\n|---|---|---|---|---|---|---|---|---|\n| 1 | Aliens             | 1986 | R     |  18.50 |  81.843 | 137 | 8.2 | 63.34 |\n| 2 | Armageddon         | 1998 | PG-13 | 140.00 | 194.125 | 144 | 6.7 | 54.12 |\n| 3 | As Good As It Gets | 1997 | PG-13 |  50.00 | 147.540 | 138 | 8.1 | 97.54 |\n| 4 | Braveheart         | 1995 | R     |  72.00 |  75.600 | 177 | 8.3 |  3.60 |\n| 5 | Chasing Amy        | 1997 | R     |   0.25 |  12.006 | 105 | 7.9 | 11.76 |\n| 6 | Contact            | 1997 | PG    |  90.00 | 100.853 | 153 | 8.3 | 10.85 |\n\n",
            "text/latex": "A data.frame: 6 × 8\n\\begin{tabular}{r|llllllll}\n  & Titulo & Producao & Classificacao & Gasto & Renda & Duracao & TaxaEspectadores & Lucro\\\\\n  & <chr> & <int> & <chr> & <dbl> & <dbl> & <int> & <dbl> & <dbl>\\\\\n\\hline\n\t1 & Aliens             & 1986 & R     &  18.50 &  81.843 & 137 & 8.2 & 63.34\\\\\n\t2 & Armageddon         & 1998 & PG-13 & 140.00 & 194.125 & 144 & 6.7 & 54.12\\\\\n\t3 & As Good As It Gets & 1997 & PG-13 &  50.00 & 147.540 & 138 & 8.1 & 97.54\\\\\n\t4 & Braveheart         & 1995 & R     &  72.00 &  75.600 & 177 & 8.3 &  3.60\\\\\n\t5 & Chasing Amy        & 1997 & R     &   0.25 &  12.006 & 105 & 7.9 & 11.76\\\\\n\t6 & Contact            & 1997 & PG    &  90.00 & 100.853 & 153 & 8.3 & 10.85\\\\\n\\end{tabular}\n",
            "text/plain": [
              "  Titulo             Producao Classificacao Gasto  Renda   Duracao\n",
              "1 Aliens             1986     R              18.50  81.843 137    \n",
              "2 Armageddon         1998     PG-13         140.00 194.125 144    \n",
              "3 As Good As It Gets 1997     PG-13          50.00 147.540 138    \n",
              "4 Braveheart         1995     R              72.00  75.600 177    \n",
              "5 Chasing Amy        1997     R               0.25  12.006 105    \n",
              "6 Contact            1997     PG             90.00 100.853 153    \n",
              "  TaxaEspectadores Lucro\n",
              "1 8.2              63.34\n",
              "2 6.7              54.12\n",
              "3 8.1              97.54\n",
              "4 8.3               3.60\n",
              "5 7.9              11.76\n",
              "6 8.3              10.85"
            ]
          },
          "metadata": {}
        }
      ]
    },
    {
      "cell_type": "code",
      "source": [
        "# Importar a biblioteca 'dplyr' para acesso a funções mais avançadas.\n",
        "library('dplyr')"
      ],
      "metadata": {
        "id": "Io2fV9BCISYs"
      },
      "execution_count": 118,
      "outputs": []
    },
    {
      "cell_type": "code",
      "source": [
        "# Criar um fluxo '%>%' para a entrada dos dados, o agrupamento com base na coluna 'Producao' e a contagem das linhas por ano de produção.\n",
        "anoProducaoGrupo <- dados %>% group_by(dados$Producao) %>% count()\n",
        "head(anoProducaoGrupo)"
      ],
      "metadata": {
        "colab": {
          "base_uri": "https://localhost:8080/",
          "height": 286
        },
        "id": "4XSgvIdCIc2E",
        "outputId": "00f2a401-77aa-40d5-dd47-250d2a58022e"
      },
      "execution_count": 119,
      "outputs": [
        {
          "output_type": "display_data",
          "data": {
            "text/html": [
              "<table class=\"dataframe\">\n",
              "<caption>A grouped_df: 6 × 2</caption>\n",
              "<thead>\n",
              "\t<tr><th scope=col>dados$Producao</th><th scope=col>n</th></tr>\n",
              "\t<tr><th scope=col>&lt;int&gt;</th><th scope=col>&lt;int&gt;</th></tr>\n",
              "</thead>\n",
              "<tbody>\n",
              "\t<tr><td>1939</td><td>1</td></tr>\n",
              "\t<tr><td>1975</td><td>1</td></tr>\n",
              "\t<tr><td>1978</td><td>2</td></tr>\n",
              "\t<tr><td>1981</td><td>1</td></tr>\n",
              "\t<tr><td>1984</td><td>1</td></tr>\n",
              "\t<tr><td>1986</td><td>1</td></tr>\n",
              "</tbody>\n",
              "</table>\n"
            ],
            "text/markdown": "\nA grouped_df: 6 × 2\n\n| dados$Producao &lt;int&gt; | n &lt;int&gt; |\n|---|---|\n| 1939 | 1 |\n| 1975 | 1 |\n| 1978 | 2 |\n| 1981 | 1 |\n| 1984 | 1 |\n| 1986 | 1 |\n\n",
            "text/latex": "A grouped\\_df: 6 × 2\n\\begin{tabular}{ll}\n dados\\$Producao & n\\\\\n <int> & <int>\\\\\n\\hline\n\t 1939 & 1\\\\\n\t 1975 & 1\\\\\n\t 1978 & 2\\\\\n\t 1981 & 1\\\\\n\t 1984 & 1\\\\\n\t 1986 & 1\\\\\n\\end{tabular}\n",
            "text/plain": [
              "  dados$Producao n\n",
              "1 1939           1\n",
              "2 1975           1\n",
              "3 1978           2\n",
              "4 1981           1\n",
              "5 1984           1\n",
              "6 1986           1"
            ]
          },
          "metadata": {}
        }
      ]
    },
    {
      "cell_type": "code",
      "source": [
        "# Ordenar a coluna 'n' de forma decrescente.\n",
        "anoProducaoGrupoOrdenado <- anoProducaoGrupo %>% arrange(desc(n))\n",
        "head(anoProducaoGrupoOrdenado)"
      ],
      "metadata": {
        "colab": {
          "base_uri": "https://localhost:8080/",
          "height": 286
        },
        "id": "hpvlMzK0KjRY",
        "outputId": "cb19f9db-5e0c-4960-e411-7259acdf308e"
      },
      "execution_count": 120,
      "outputs": [
        {
          "output_type": "display_data",
          "data": {
            "text/html": [
              "<table class=\"dataframe\">\n",
              "<caption>A grouped_df: 6 × 2</caption>\n",
              "<thead>\n",
              "\t<tr><th scope=col>dados$Producao</th><th scope=col>n</th></tr>\n",
              "\t<tr><th scope=col>&lt;int&gt;</th><th scope=col>&lt;int&gt;</th></tr>\n",
              "</thead>\n",
              "<tbody>\n",
              "\t<tr><td>1997</td><td>12</td></tr>\n",
              "\t<tr><td>1998</td><td> 5</td></tr>\n",
              "\t<tr><td>1996</td><td> 4</td></tr>\n",
              "\t<tr><td>1994</td><td> 3</td></tr>\n",
              "\t<tr><td>1978</td><td> 2</td></tr>\n",
              "\t<tr><td>1995</td><td> 2</td></tr>\n",
              "</tbody>\n",
              "</table>\n"
            ],
            "text/markdown": "\nA grouped_df: 6 × 2\n\n| dados$Producao &lt;int&gt; | n &lt;int&gt; |\n|---|---|\n| 1997 | 12 |\n| 1998 |  5 |\n| 1996 |  4 |\n| 1994 |  3 |\n| 1978 |  2 |\n| 1995 |  2 |\n\n",
            "text/latex": "A grouped\\_df: 6 × 2\n\\begin{tabular}{ll}\n dados\\$Producao & n\\\\\n <int> & <int>\\\\\n\\hline\n\t 1997 & 12\\\\\n\t 1998 &  5\\\\\n\t 1996 &  4\\\\\n\t 1994 &  3\\\\\n\t 1978 &  2\\\\\n\t 1995 &  2\\\\\n\\end{tabular}\n",
            "text/plain": [
              "  dados$Producao n \n",
              "1 1997           12\n",
              "2 1998            5\n",
              "3 1996            4\n",
              "4 1994            3\n",
              "5 1978            2\n",
              "6 1995            2"
            ]
          },
          "metadata": {}
        }
      ]
    },
    {
      "cell_type": "markdown",
      "source": [
        "# 5) Listar os filmes separados pela classificação"
      ],
      "metadata": {
        "id": "MMli2LvzLD1z"
      }
    },
    {
      "cell_type": "code",
      "source": [
        "head(dados)"
      ],
      "metadata": {
        "colab": {
          "base_uri": "https://localhost:8080/",
          "height": 286
        },
        "id": "7iU6vKcxLK1W",
        "outputId": "0907a9c1-7d55-4661-ba70-956a77c2a8ed"
      },
      "execution_count": 121,
      "outputs": [
        {
          "output_type": "display_data",
          "data": {
            "text/html": [
              "<table class=\"dataframe\">\n",
              "<caption>A data.frame: 6 × 8</caption>\n",
              "<thead>\n",
              "\t<tr><th></th><th scope=col>Titulo</th><th scope=col>Producao</th><th scope=col>Classificacao</th><th scope=col>Gasto</th><th scope=col>Renda</th><th scope=col>Duracao</th><th scope=col>TaxaEspectadores</th><th scope=col>Lucro</th></tr>\n",
              "\t<tr><th></th><th scope=col>&lt;chr&gt;</th><th scope=col>&lt;int&gt;</th><th scope=col>&lt;chr&gt;</th><th scope=col>&lt;dbl&gt;</th><th scope=col>&lt;dbl&gt;</th><th scope=col>&lt;int&gt;</th><th scope=col>&lt;dbl&gt;</th><th scope=col>&lt;dbl&gt;</th></tr>\n",
              "</thead>\n",
              "<tbody>\n",
              "\t<tr><th scope=row>1</th><td>Aliens            </td><td>1986</td><td>R    </td><td> 18.50</td><td> 81.843</td><td>137</td><td>8.2</td><td>63.34</td></tr>\n",
              "\t<tr><th scope=row>2</th><td>Armageddon        </td><td>1998</td><td>PG-13</td><td>140.00</td><td>194.125</td><td>144</td><td>6.7</td><td>54.12</td></tr>\n",
              "\t<tr><th scope=row>3</th><td>As Good As It Gets</td><td>1997</td><td>PG-13</td><td> 50.00</td><td>147.540</td><td>138</td><td>8.1</td><td>97.54</td></tr>\n",
              "\t<tr><th scope=row>4</th><td>Braveheart        </td><td>1995</td><td>R    </td><td> 72.00</td><td> 75.600</td><td>177</td><td>8.3</td><td> 3.60</td></tr>\n",
              "\t<tr><th scope=row>5</th><td>Chasing Amy       </td><td>1997</td><td>R    </td><td>  0.25</td><td> 12.006</td><td>105</td><td>7.9</td><td>11.76</td></tr>\n",
              "\t<tr><th scope=row>6</th><td>Contact           </td><td>1997</td><td>PG   </td><td> 90.00</td><td>100.853</td><td>153</td><td>8.3</td><td>10.85</td></tr>\n",
              "</tbody>\n",
              "</table>\n"
            ],
            "text/markdown": "\nA data.frame: 6 × 8\n\n| <!--/--> | Titulo &lt;chr&gt; | Producao &lt;int&gt; | Classificacao &lt;chr&gt; | Gasto &lt;dbl&gt; | Renda &lt;dbl&gt; | Duracao &lt;int&gt; | TaxaEspectadores &lt;dbl&gt; | Lucro &lt;dbl&gt; |\n|---|---|---|---|---|---|---|---|---|\n| 1 | Aliens             | 1986 | R     |  18.50 |  81.843 | 137 | 8.2 | 63.34 |\n| 2 | Armageddon         | 1998 | PG-13 | 140.00 | 194.125 | 144 | 6.7 | 54.12 |\n| 3 | As Good As It Gets | 1997 | PG-13 |  50.00 | 147.540 | 138 | 8.1 | 97.54 |\n| 4 | Braveheart         | 1995 | R     |  72.00 |  75.600 | 177 | 8.3 |  3.60 |\n| 5 | Chasing Amy        | 1997 | R     |   0.25 |  12.006 | 105 | 7.9 | 11.76 |\n| 6 | Contact            | 1997 | PG    |  90.00 | 100.853 | 153 | 8.3 | 10.85 |\n\n",
            "text/latex": "A data.frame: 6 × 8\n\\begin{tabular}{r|llllllll}\n  & Titulo & Producao & Classificacao & Gasto & Renda & Duracao & TaxaEspectadores & Lucro\\\\\n  & <chr> & <int> & <chr> & <dbl> & <dbl> & <int> & <dbl> & <dbl>\\\\\n\\hline\n\t1 & Aliens             & 1986 & R     &  18.50 &  81.843 & 137 & 8.2 & 63.34\\\\\n\t2 & Armageddon         & 1998 & PG-13 & 140.00 & 194.125 & 144 & 6.7 & 54.12\\\\\n\t3 & As Good As It Gets & 1997 & PG-13 &  50.00 & 147.540 & 138 & 8.1 & 97.54\\\\\n\t4 & Braveheart         & 1995 & R     &  72.00 &  75.600 & 177 & 8.3 &  3.60\\\\\n\t5 & Chasing Amy        & 1997 & R     &   0.25 &  12.006 & 105 & 7.9 & 11.76\\\\\n\t6 & Contact            & 1997 & PG    &  90.00 & 100.853 & 153 & 8.3 & 10.85\\\\\n\\end{tabular}\n",
            "text/plain": [
              "  Titulo             Producao Classificacao Gasto  Renda   Duracao\n",
              "1 Aliens             1986     R              18.50  81.843 137    \n",
              "2 Armageddon         1998     PG-13         140.00 194.125 144    \n",
              "3 As Good As It Gets 1997     PG-13          50.00 147.540 138    \n",
              "4 Braveheart         1995     R              72.00  75.600 177    \n",
              "5 Chasing Amy        1997     R               0.25  12.006 105    \n",
              "6 Contact            1997     PG             90.00 100.853 153    \n",
              "  TaxaEspectadores Lucro\n",
              "1 8.2              63.34\n",
              "2 6.7              54.12\n",
              "3 8.1              97.54\n",
              "4 8.3               3.60\n",
              "5 7.9              11.76\n",
              "6 8.3              10.85"
            ]
          },
          "metadata": {}
        }
      ]
    },
    {
      "cell_type": "code",
      "source": [
        "# Ordenar os dados com base na coluna 'Classificacao'.\n",
        "classificacaoOrdenado <- dados %>% arrange(dados$Classificacao)\n",
        "head(classificacaoOrdenado)"
      ],
      "metadata": {
        "colab": {
          "base_uri": "https://localhost:8080/",
          "height": 286
        },
        "id": "9KbS1FUkLU21",
        "outputId": "7b92c172-fa38-4da0-cdbc-497206e982d6"
      },
      "execution_count": 122,
      "outputs": [
        {
          "output_type": "display_data",
          "data": {
            "text/html": [
              "<table class=\"dataframe\">\n",
              "<caption>A data.frame: 6 × 8</caption>\n",
              "<thead>\n",
              "\t<tr><th></th><th scope=col>Titulo</th><th scope=col>Producao</th><th scope=col>Classificacao</th><th scope=col>Gasto</th><th scope=col>Renda</th><th scope=col>Duracao</th><th scope=col>TaxaEspectadores</th><th scope=col>Lucro</th></tr>\n",
              "\t<tr><th></th><th scope=col>&lt;chr&gt;</th><th scope=col>&lt;int&gt;</th><th scope=col>&lt;chr&gt;</th><th scope=col>&lt;dbl&gt;</th><th scope=col>&lt;dbl&gt;</th><th scope=col>&lt;int&gt;</th><th scope=col>&lt;dbl&gt;</th><th scope=col>&lt;dbl&gt;</th></tr>\n",
              "</thead>\n",
              "<tbody>\n",
              "\t<tr><th scope=row>1</th><td>Gone with the Wind     </td><td>1939</td><td>G    </td><td>  3.9</td><td>198.571</td><td>222</td><td>8.0</td><td>194.67</td></tr>\n",
              "\t<tr><th scope=row>2</th><td>Contact                </td><td>1997</td><td>PG   </td><td> 90.0</td><td>100.853</td><td>153</td><td>8.3</td><td> 10.85</td></tr>\n",
              "\t<tr><th scope=row>3</th><td>Grease                 </td><td>1978</td><td>PG   </td><td>  6.0</td><td>181.280</td><td>110</td><td>7.3</td><td>175.28</td></tr>\n",
              "\t<tr><th scope=row>4</th><td>Jaws                   </td><td>1975</td><td>PG   </td><td> 12.0</td><td>260.000</td><td>124</td><td>7.8</td><td>248.00</td></tr>\n",
              "\t<tr><th scope=row>5</th><td>Raiders of the Lost Ark</td><td>1981</td><td>PG   </td><td> 20.0</td><td>242.374</td><td>115</td><td>8.3</td><td>222.37</td></tr>\n",
              "\t<tr><th scope=row>6</th><td>Armageddon             </td><td>1998</td><td>PG-13</td><td>140.0</td><td>194.125</td><td>144</td><td>6.7</td><td> 54.12</td></tr>\n",
              "</tbody>\n",
              "</table>\n"
            ],
            "text/markdown": "\nA data.frame: 6 × 8\n\n| <!--/--> | Titulo &lt;chr&gt; | Producao &lt;int&gt; | Classificacao &lt;chr&gt; | Gasto &lt;dbl&gt; | Renda &lt;dbl&gt; | Duracao &lt;int&gt; | TaxaEspectadores &lt;dbl&gt; | Lucro &lt;dbl&gt; |\n|---|---|---|---|---|---|---|---|---|\n| 1 | Gone with the Wind      | 1939 | G     |   3.9 | 198.571 | 222 | 8.0 | 194.67 |\n| 2 | Contact                 | 1997 | PG    |  90.0 | 100.853 | 153 | 8.3 |  10.85 |\n| 3 | Grease                  | 1978 | PG    |   6.0 | 181.280 | 110 | 7.3 | 175.28 |\n| 4 | Jaws                    | 1975 | PG    |  12.0 | 260.000 | 124 | 7.8 | 248.00 |\n| 5 | Raiders of the Lost Ark | 1981 | PG    |  20.0 | 242.374 | 115 | 8.3 | 222.37 |\n| 6 | Armageddon              | 1998 | PG-13 | 140.0 | 194.125 | 144 | 6.7 |  54.12 |\n\n",
            "text/latex": "A data.frame: 6 × 8\n\\begin{tabular}{r|llllllll}\n  & Titulo & Producao & Classificacao & Gasto & Renda & Duracao & TaxaEspectadores & Lucro\\\\\n  & <chr> & <int> & <chr> & <dbl> & <dbl> & <int> & <dbl> & <dbl>\\\\\n\\hline\n\t1 & Gone with the Wind      & 1939 & G     &   3.9 & 198.571 & 222 & 8.0 & 194.67\\\\\n\t2 & Contact                 & 1997 & PG    &  90.0 & 100.853 & 153 & 8.3 &  10.85\\\\\n\t3 & Grease                  & 1978 & PG    &   6.0 & 181.280 & 110 & 7.3 & 175.28\\\\\n\t4 & Jaws                    & 1975 & PG    &  12.0 & 260.000 & 124 & 7.8 & 248.00\\\\\n\t5 & Raiders of the Lost Ark & 1981 & PG    &  20.0 & 242.374 & 115 & 8.3 & 222.37\\\\\n\t6 & Armageddon              & 1998 & PG-13 & 140.0 & 194.125 & 144 & 6.7 &  54.12\\\\\n\\end{tabular}\n",
            "text/plain": [
              "  Titulo                  Producao Classificacao Gasto Renda   Duracao\n",
              "1 Gone with the Wind      1939     G               3.9 198.571 222    \n",
              "2 Contact                 1997     PG             90.0 100.853 153    \n",
              "3 Grease                  1978     PG              6.0 181.280 110    \n",
              "4 Jaws                    1975     PG             12.0 260.000 124    \n",
              "5 Raiders of the Lost Ark 1981     PG             20.0 242.374 115    \n",
              "6 Armageddon              1998     PG-13         140.0 194.125 144    \n",
              "  TaxaEspectadores Lucro \n",
              "1 8.0              194.67\n",
              "2 8.3               10.85\n",
              "3 7.3              175.28\n",
              "4 7.8              248.00\n",
              "5 8.3              222.37\n",
              "6 6.7               54.12"
            ]
          },
          "metadata": {}
        }
      ]
    },
    {
      "cell_type": "markdown",
      "source": [
        "# 6) Listar os filmes ordenados pelo ano de produção"
      ],
      "metadata": {
        "id": "b_5PuWBEMAa2"
      }
    },
    {
      "cell_type": "code",
      "source": [
        "head(dados)"
      ],
      "metadata": {
        "colab": {
          "base_uri": "https://localhost:8080/",
          "height": 286
        },
        "id": "9YNFIUBfMKaY",
        "outputId": "b6774f69-b1cb-40dc-8178-5c5d5bd61fd6"
      },
      "execution_count": 123,
      "outputs": [
        {
          "output_type": "display_data",
          "data": {
            "text/html": [
              "<table class=\"dataframe\">\n",
              "<caption>A data.frame: 6 × 8</caption>\n",
              "<thead>\n",
              "\t<tr><th></th><th scope=col>Titulo</th><th scope=col>Producao</th><th scope=col>Classificacao</th><th scope=col>Gasto</th><th scope=col>Renda</th><th scope=col>Duracao</th><th scope=col>TaxaEspectadores</th><th scope=col>Lucro</th></tr>\n",
              "\t<tr><th></th><th scope=col>&lt;chr&gt;</th><th scope=col>&lt;int&gt;</th><th scope=col>&lt;chr&gt;</th><th scope=col>&lt;dbl&gt;</th><th scope=col>&lt;dbl&gt;</th><th scope=col>&lt;int&gt;</th><th scope=col>&lt;dbl&gt;</th><th scope=col>&lt;dbl&gt;</th></tr>\n",
              "</thead>\n",
              "<tbody>\n",
              "\t<tr><th scope=row>1</th><td>Aliens            </td><td>1986</td><td>R    </td><td> 18.50</td><td> 81.843</td><td>137</td><td>8.2</td><td>63.34</td></tr>\n",
              "\t<tr><th scope=row>2</th><td>Armageddon        </td><td>1998</td><td>PG-13</td><td>140.00</td><td>194.125</td><td>144</td><td>6.7</td><td>54.12</td></tr>\n",
              "\t<tr><th scope=row>3</th><td>As Good As It Gets</td><td>1997</td><td>PG-13</td><td> 50.00</td><td>147.540</td><td>138</td><td>8.1</td><td>97.54</td></tr>\n",
              "\t<tr><th scope=row>4</th><td>Braveheart        </td><td>1995</td><td>R    </td><td> 72.00</td><td> 75.600</td><td>177</td><td>8.3</td><td> 3.60</td></tr>\n",
              "\t<tr><th scope=row>5</th><td>Chasing Amy       </td><td>1997</td><td>R    </td><td>  0.25</td><td> 12.006</td><td>105</td><td>7.9</td><td>11.76</td></tr>\n",
              "\t<tr><th scope=row>6</th><td>Contact           </td><td>1997</td><td>PG   </td><td> 90.00</td><td>100.853</td><td>153</td><td>8.3</td><td>10.85</td></tr>\n",
              "</tbody>\n",
              "</table>\n"
            ],
            "text/markdown": "\nA data.frame: 6 × 8\n\n| <!--/--> | Titulo &lt;chr&gt; | Producao &lt;int&gt; | Classificacao &lt;chr&gt; | Gasto &lt;dbl&gt; | Renda &lt;dbl&gt; | Duracao &lt;int&gt; | TaxaEspectadores &lt;dbl&gt; | Lucro &lt;dbl&gt; |\n|---|---|---|---|---|---|---|---|---|\n| 1 | Aliens             | 1986 | R     |  18.50 |  81.843 | 137 | 8.2 | 63.34 |\n| 2 | Armageddon         | 1998 | PG-13 | 140.00 | 194.125 | 144 | 6.7 | 54.12 |\n| 3 | As Good As It Gets | 1997 | PG-13 |  50.00 | 147.540 | 138 | 8.1 | 97.54 |\n| 4 | Braveheart         | 1995 | R     |  72.00 |  75.600 | 177 | 8.3 |  3.60 |\n| 5 | Chasing Amy        | 1997 | R     |   0.25 |  12.006 | 105 | 7.9 | 11.76 |\n| 6 | Contact            | 1997 | PG    |  90.00 | 100.853 | 153 | 8.3 | 10.85 |\n\n",
            "text/latex": "A data.frame: 6 × 8\n\\begin{tabular}{r|llllllll}\n  & Titulo & Producao & Classificacao & Gasto & Renda & Duracao & TaxaEspectadores & Lucro\\\\\n  & <chr> & <int> & <chr> & <dbl> & <dbl> & <int> & <dbl> & <dbl>\\\\\n\\hline\n\t1 & Aliens             & 1986 & R     &  18.50 &  81.843 & 137 & 8.2 & 63.34\\\\\n\t2 & Armageddon         & 1998 & PG-13 & 140.00 & 194.125 & 144 & 6.7 & 54.12\\\\\n\t3 & As Good As It Gets & 1997 & PG-13 &  50.00 & 147.540 & 138 & 8.1 & 97.54\\\\\n\t4 & Braveheart         & 1995 & R     &  72.00 &  75.600 & 177 & 8.3 &  3.60\\\\\n\t5 & Chasing Amy        & 1997 & R     &   0.25 &  12.006 & 105 & 7.9 & 11.76\\\\\n\t6 & Contact            & 1997 & PG    &  90.00 & 100.853 & 153 & 8.3 & 10.85\\\\\n\\end{tabular}\n",
            "text/plain": [
              "  Titulo             Producao Classificacao Gasto  Renda   Duracao\n",
              "1 Aliens             1986     R              18.50  81.843 137    \n",
              "2 Armageddon         1998     PG-13         140.00 194.125 144    \n",
              "3 As Good As It Gets 1997     PG-13          50.00 147.540 138    \n",
              "4 Braveheart         1995     R              72.00  75.600 177    \n",
              "5 Chasing Amy        1997     R               0.25  12.006 105    \n",
              "6 Contact            1997     PG             90.00 100.853 153    \n",
              "  TaxaEspectadores Lucro\n",
              "1 8.2              63.34\n",
              "2 6.7              54.12\n",
              "3 8.1              97.54\n",
              "4 8.3               3.60\n",
              "5 7.9              11.76\n",
              "6 8.3              10.85"
            ]
          },
          "metadata": {}
        }
      ]
    },
    {
      "cell_type": "code",
      "source": [
        "# Ordenar os dados com base na coluna 'Producao' do mais recente para o mais antigo.\n",
        "ProducaoOrdenado <- dados %>% arrange(desc(dados$Producao))\n",
        "head(ProducaoOrdenado)"
      ],
      "metadata": {
        "colab": {
          "base_uri": "https://localhost:8080/",
          "height": 286
        },
        "id": "cxOcafcRMNH-",
        "outputId": "dd65175f-a7b1-4e8c-dbd0-4c5ce4360b85"
      },
      "execution_count": 124,
      "outputs": [
        {
          "output_type": "display_data",
          "data": {
            "text/html": [
              "<table class=\"dataframe\">\n",
              "<caption>A data.frame: 6 × 8</caption>\n",
              "<thead>\n",
              "\t<tr><th></th><th scope=col>Titulo</th><th scope=col>Producao</th><th scope=col>Classificacao</th><th scope=col>Gasto</th><th scope=col>Renda</th><th scope=col>Duracao</th><th scope=col>TaxaEspectadores</th><th scope=col>Lucro</th></tr>\n",
              "\t<tr><th></th><th scope=col>&lt;chr&gt;</th><th scope=col>&lt;int&gt;</th><th scope=col>&lt;chr&gt;</th><th scope=col>&lt;dbl&gt;</th><th scope=col>&lt;dbl&gt;</th><th scope=col>&lt;int&gt;</th><th scope=col>&lt;dbl&gt;</th><th scope=col>&lt;dbl&gt;</th></tr>\n",
              "</thead>\n",
              "<tbody>\n",
              "\t<tr><th scope=row>1</th><td>Armageddon              </td><td>1998</td><td>PG-13</td><td>140</td><td>194.125</td><td>144</td><td>6.7</td><td> 54.12</td></tr>\n",
              "\t<tr><th scope=row>2</th><td>Deep Impact             </td><td>1998</td><td>PG-13</td><td> 75</td><td>140.424</td><td>120</td><td>6.4</td><td> 65.42</td></tr>\n",
              "\t<tr><th scope=row>3</th><td>Hard Rain               </td><td>1998</td><td>R    </td><td> 70</td><td> 19.819</td><td> 95</td><td>5.2</td><td>-50.18</td></tr>\n",
              "\t<tr><th scope=row>4</th><td>Saving Private ryan     </td><td>1998</td><td>R    </td><td> 70</td><td>178.091</td><td>170</td><td>9.1</td><td>108.09</td></tr>\n",
              "\t<tr><th scope=row>5</th><td>The Man in the Iron Mask</td><td>1998</td><td>PG-13</td><td> 35</td><td> 56.876</td><td>132</td><td>6.5</td><td> 21.88</td></tr>\n",
              "\t<tr><th scope=row>6</th><td>As Good As It Gets      </td><td>1997</td><td>PG-13</td><td> 50</td><td>147.540</td><td>138</td><td>8.1</td><td> 97.54</td></tr>\n",
              "</tbody>\n",
              "</table>\n"
            ],
            "text/markdown": "\nA data.frame: 6 × 8\n\n| <!--/--> | Titulo &lt;chr&gt; | Producao &lt;int&gt; | Classificacao &lt;chr&gt; | Gasto &lt;dbl&gt; | Renda &lt;dbl&gt; | Duracao &lt;int&gt; | TaxaEspectadores &lt;dbl&gt; | Lucro &lt;dbl&gt; |\n|---|---|---|---|---|---|---|---|---|\n| 1 | Armageddon               | 1998 | PG-13 | 140 | 194.125 | 144 | 6.7 |  54.12 |\n| 2 | Deep Impact              | 1998 | PG-13 |  75 | 140.424 | 120 | 6.4 |  65.42 |\n| 3 | Hard Rain                | 1998 | R     |  70 |  19.819 |  95 | 5.2 | -50.18 |\n| 4 | Saving Private ryan      | 1998 | R     |  70 | 178.091 | 170 | 9.1 | 108.09 |\n| 5 | The Man in the Iron Mask | 1998 | PG-13 |  35 |  56.876 | 132 | 6.5 |  21.88 |\n| 6 | As Good As It Gets       | 1997 | PG-13 |  50 | 147.540 | 138 | 8.1 |  97.54 |\n\n",
            "text/latex": "A data.frame: 6 × 8\n\\begin{tabular}{r|llllllll}\n  & Titulo & Producao & Classificacao & Gasto & Renda & Duracao & TaxaEspectadores & Lucro\\\\\n  & <chr> & <int> & <chr> & <dbl> & <dbl> & <int> & <dbl> & <dbl>\\\\\n\\hline\n\t1 & Armageddon               & 1998 & PG-13 & 140 & 194.125 & 144 & 6.7 &  54.12\\\\\n\t2 & Deep Impact              & 1998 & PG-13 &  75 & 140.424 & 120 & 6.4 &  65.42\\\\\n\t3 & Hard Rain                & 1998 & R     &  70 &  19.819 &  95 & 5.2 & -50.18\\\\\n\t4 & Saving Private ryan      & 1998 & R     &  70 & 178.091 & 170 & 9.1 & 108.09\\\\\n\t5 & The Man in the Iron Mask & 1998 & PG-13 &  35 &  56.876 & 132 & 6.5 &  21.88\\\\\n\t6 & As Good As It Gets       & 1997 & PG-13 &  50 & 147.540 & 138 & 8.1 &  97.54\\\\\n\\end{tabular}\n",
            "text/plain": [
              "  Titulo                   Producao Classificacao Gasto Renda   Duracao\n",
              "1 Armageddon               1998     PG-13         140   194.125 144    \n",
              "2 Deep Impact              1998     PG-13          75   140.424 120    \n",
              "3 Hard Rain                1998     R              70    19.819  95    \n",
              "4 Saving Private ryan      1998     R              70   178.091 170    \n",
              "5 The Man in the Iron Mask 1998     PG-13          35    56.876 132    \n",
              "6 As Good As It Gets       1997     PG-13          50   147.540 138    \n",
              "  TaxaEspectadores Lucro \n",
              "1 6.7               54.12\n",
              "2 6.4               65.42\n",
              "3 5.2              -50.18\n",
              "4 9.1              108.09\n",
              "5 6.5               21.88\n",
              "6 8.1               97.54"
            ]
          },
          "metadata": {}
        }
      ]
    },
    {
      "cell_type": "markdown",
      "source": [
        "# 7) Listar os filmes ordenados pela taxa de espectadores (da menor para a maior)"
      ],
      "metadata": {
        "id": "DJcGgE2QNIuP"
      }
    },
    {
      "cell_type": "code",
      "source": [
        "head(dados)"
      ],
      "metadata": {
        "colab": {
          "base_uri": "https://localhost:8080/",
          "height": 286
        },
        "id": "nXrkYZ4dNIXB",
        "outputId": "c23bdee0-dce3-4d55-ce6f-b1ee49e75ff3"
      },
      "execution_count": 125,
      "outputs": [
        {
          "output_type": "display_data",
          "data": {
            "text/html": [
              "<table class=\"dataframe\">\n",
              "<caption>A data.frame: 6 × 8</caption>\n",
              "<thead>\n",
              "\t<tr><th></th><th scope=col>Titulo</th><th scope=col>Producao</th><th scope=col>Classificacao</th><th scope=col>Gasto</th><th scope=col>Renda</th><th scope=col>Duracao</th><th scope=col>TaxaEspectadores</th><th scope=col>Lucro</th></tr>\n",
              "\t<tr><th></th><th scope=col>&lt;chr&gt;</th><th scope=col>&lt;int&gt;</th><th scope=col>&lt;chr&gt;</th><th scope=col>&lt;dbl&gt;</th><th scope=col>&lt;dbl&gt;</th><th scope=col>&lt;int&gt;</th><th scope=col>&lt;dbl&gt;</th><th scope=col>&lt;dbl&gt;</th></tr>\n",
              "</thead>\n",
              "<tbody>\n",
              "\t<tr><th scope=row>1</th><td>Aliens            </td><td>1986</td><td>R    </td><td> 18.50</td><td> 81.843</td><td>137</td><td>8.2</td><td>63.34</td></tr>\n",
              "\t<tr><th scope=row>2</th><td>Armageddon        </td><td>1998</td><td>PG-13</td><td>140.00</td><td>194.125</td><td>144</td><td>6.7</td><td>54.12</td></tr>\n",
              "\t<tr><th scope=row>3</th><td>As Good As It Gets</td><td>1997</td><td>PG-13</td><td> 50.00</td><td>147.540</td><td>138</td><td>8.1</td><td>97.54</td></tr>\n",
              "\t<tr><th scope=row>4</th><td>Braveheart        </td><td>1995</td><td>R    </td><td> 72.00</td><td> 75.600</td><td>177</td><td>8.3</td><td> 3.60</td></tr>\n",
              "\t<tr><th scope=row>5</th><td>Chasing Amy       </td><td>1997</td><td>R    </td><td>  0.25</td><td> 12.006</td><td>105</td><td>7.9</td><td>11.76</td></tr>\n",
              "\t<tr><th scope=row>6</th><td>Contact           </td><td>1997</td><td>PG   </td><td> 90.00</td><td>100.853</td><td>153</td><td>8.3</td><td>10.85</td></tr>\n",
              "</tbody>\n",
              "</table>\n"
            ],
            "text/markdown": "\nA data.frame: 6 × 8\n\n| <!--/--> | Titulo &lt;chr&gt; | Producao &lt;int&gt; | Classificacao &lt;chr&gt; | Gasto &lt;dbl&gt; | Renda &lt;dbl&gt; | Duracao &lt;int&gt; | TaxaEspectadores &lt;dbl&gt; | Lucro &lt;dbl&gt; |\n|---|---|---|---|---|---|---|---|---|\n| 1 | Aliens             | 1986 | R     |  18.50 |  81.843 | 137 | 8.2 | 63.34 |\n| 2 | Armageddon         | 1998 | PG-13 | 140.00 | 194.125 | 144 | 6.7 | 54.12 |\n| 3 | As Good As It Gets | 1997 | PG-13 |  50.00 | 147.540 | 138 | 8.1 | 97.54 |\n| 4 | Braveheart         | 1995 | R     |  72.00 |  75.600 | 177 | 8.3 |  3.60 |\n| 5 | Chasing Amy        | 1997 | R     |   0.25 |  12.006 | 105 | 7.9 | 11.76 |\n| 6 | Contact            | 1997 | PG    |  90.00 | 100.853 | 153 | 8.3 | 10.85 |\n\n",
            "text/latex": "A data.frame: 6 × 8\n\\begin{tabular}{r|llllllll}\n  & Titulo & Producao & Classificacao & Gasto & Renda & Duracao & TaxaEspectadores & Lucro\\\\\n  & <chr> & <int> & <chr> & <dbl> & <dbl> & <int> & <dbl> & <dbl>\\\\\n\\hline\n\t1 & Aliens             & 1986 & R     &  18.50 &  81.843 & 137 & 8.2 & 63.34\\\\\n\t2 & Armageddon         & 1998 & PG-13 & 140.00 & 194.125 & 144 & 6.7 & 54.12\\\\\n\t3 & As Good As It Gets & 1997 & PG-13 &  50.00 & 147.540 & 138 & 8.1 & 97.54\\\\\n\t4 & Braveheart         & 1995 & R     &  72.00 &  75.600 & 177 & 8.3 &  3.60\\\\\n\t5 & Chasing Amy        & 1997 & R     &   0.25 &  12.006 & 105 & 7.9 & 11.76\\\\\n\t6 & Contact            & 1997 & PG    &  90.00 & 100.853 & 153 & 8.3 & 10.85\\\\\n\\end{tabular}\n",
            "text/plain": [
              "  Titulo             Producao Classificacao Gasto  Renda   Duracao\n",
              "1 Aliens             1986     R              18.50  81.843 137    \n",
              "2 Armageddon         1998     PG-13         140.00 194.125 144    \n",
              "3 As Good As It Gets 1997     PG-13          50.00 147.540 138    \n",
              "4 Braveheart         1995     R              72.00  75.600 177    \n",
              "5 Chasing Amy        1997     R               0.25  12.006 105    \n",
              "6 Contact            1997     PG             90.00 100.853 153    \n",
              "  TaxaEspectadores Lucro\n",
              "1 8.2              63.34\n",
              "2 6.7              54.12\n",
              "3 8.1              97.54\n",
              "4 8.3               3.60\n",
              "5 7.9              11.76\n",
              "6 8.3              10.85"
            ]
          },
          "metadata": {}
        }
      ]
    },
    {
      "cell_type": "code",
      "source": [
        "# Ordenar os dados com base na coluna 'TaxaEspectadores' da menor para a maior taxa.\n",
        "taxaEspectadoresOrdenado <- dados %>% arrange(dados$TaxaEspectadores)\n",
        "head(taxaEspectadoresOrdenado)"
      ],
      "metadata": {
        "colab": {
          "base_uri": "https://localhost:8080/",
          "height": 286
        },
        "id": "IjI7Ph1zNW5T",
        "outputId": "65d544fd-30ed-43b3-ab90-25ff04dbd4e5"
      },
      "execution_count": 126,
      "outputs": [
        {
          "output_type": "display_data",
          "data": {
            "text/html": [
              "<table class=\"dataframe\">\n",
              "<caption>A data.frame: 6 × 8</caption>\n",
              "<thead>\n",
              "\t<tr><th></th><th scope=col>Titulo</th><th scope=col>Producao</th><th scope=col>Classificacao</th><th scope=col>Gasto</th><th scope=col>Renda</th><th scope=col>Duracao</th><th scope=col>TaxaEspectadores</th><th scope=col>Lucro</th></tr>\n",
              "\t<tr><th></th><th scope=col>&lt;chr&gt;</th><th scope=col>&lt;int&gt;</th><th scope=col>&lt;chr&gt;</th><th scope=col>&lt;dbl&gt;</th><th scope=col>&lt;dbl&gt;</th><th scope=col>&lt;int&gt;</th><th scope=col>&lt;dbl&gt;</th><th scope=col>&lt;dbl&gt;</th></tr>\n",
              "</thead>\n",
              "<tbody>\n",
              "\t<tr><th scope=row>1</th><td>Speed 2:Cruise Control         </td><td>1997</td><td>PG-13</td><td>110</td><td> 48.068</td><td>121</td><td>4.3</td><td>-61.93</td></tr>\n",
              "\t<tr><th scope=row>2</th><td>Hard Rain                      </td><td>1998</td><td>R    </td><td> 70</td><td> 19.819</td><td> 95</td><td>5.2</td><td>-50.18</td></tr>\n",
              "\t<tr><th scope=row>3</th><td>Volcano                        </td><td>1997</td><td>PG-13</td><td> 90</td><td> 47.474</td><td>102</td><td>5.8</td><td>-42.53</td></tr>\n",
              "\t<tr><th scope=row>4</th><td>Deep Impact                    </td><td>1998</td><td>PG-13</td><td> 75</td><td>140.424</td><td>120</td><td>6.4</td><td> 65.42</td></tr>\n",
              "\t<tr><th scope=row>5</th><td>I Know What You Did Last Summer</td><td>1997</td><td>R    </td><td> 17</td><td> 72.219</td><td>100</td><td>6.5</td><td> 55.22</td></tr>\n",
              "\t<tr><th scope=row>6</th><td>The Man in the Iron Mask       </td><td>1998</td><td>PG-13</td><td> 35</td><td> 56.876</td><td>132</td><td>6.5</td><td> 21.88</td></tr>\n",
              "</tbody>\n",
              "</table>\n"
            ],
            "text/markdown": "\nA data.frame: 6 × 8\n\n| <!--/--> | Titulo &lt;chr&gt; | Producao &lt;int&gt; | Classificacao &lt;chr&gt; | Gasto &lt;dbl&gt; | Renda &lt;dbl&gt; | Duracao &lt;int&gt; | TaxaEspectadores &lt;dbl&gt; | Lucro &lt;dbl&gt; |\n|---|---|---|---|---|---|---|---|---|\n| 1 | Speed 2:Cruise Control          | 1997 | PG-13 | 110 |  48.068 | 121 | 4.3 | -61.93 |\n| 2 | Hard Rain                       | 1998 | R     |  70 |  19.819 |  95 | 5.2 | -50.18 |\n| 3 | Volcano                         | 1997 | PG-13 |  90 |  47.474 | 102 | 5.8 | -42.53 |\n| 4 | Deep Impact                     | 1998 | PG-13 |  75 | 140.424 | 120 | 6.4 |  65.42 |\n| 5 | I Know What You Did Last Summer | 1997 | R     |  17 |  72.219 | 100 | 6.5 |  55.22 |\n| 6 | The Man in the Iron Mask        | 1998 | PG-13 |  35 |  56.876 | 132 | 6.5 |  21.88 |\n\n",
            "text/latex": "A data.frame: 6 × 8\n\\begin{tabular}{r|llllllll}\n  & Titulo & Producao & Classificacao & Gasto & Renda & Duracao & TaxaEspectadores & Lucro\\\\\n  & <chr> & <int> & <chr> & <dbl> & <dbl> & <int> & <dbl> & <dbl>\\\\\n\\hline\n\t1 & Speed 2:Cruise Control          & 1997 & PG-13 & 110 &  48.068 & 121 & 4.3 & -61.93\\\\\n\t2 & Hard Rain                       & 1998 & R     &  70 &  19.819 &  95 & 5.2 & -50.18\\\\\n\t3 & Volcano                         & 1997 & PG-13 &  90 &  47.474 & 102 & 5.8 & -42.53\\\\\n\t4 & Deep Impact                     & 1998 & PG-13 &  75 & 140.424 & 120 & 6.4 &  65.42\\\\\n\t5 & I Know What You Did Last Summer & 1997 & R     &  17 &  72.219 & 100 & 6.5 &  55.22\\\\\n\t6 & The Man in the Iron Mask        & 1998 & PG-13 &  35 &  56.876 & 132 & 6.5 &  21.88\\\\\n\\end{tabular}\n",
            "text/plain": [
              "  Titulo                          Producao Classificacao Gasto Renda   Duracao\n",
              "1 Speed 2:Cruise Control          1997     PG-13         110    48.068 121    \n",
              "2 Hard Rain                       1998     R              70    19.819  95    \n",
              "3 Volcano                         1997     PG-13          90    47.474 102    \n",
              "4 Deep Impact                     1998     PG-13          75   140.424 120    \n",
              "5 I Know What You Did Last Summer 1997     R              17    72.219 100    \n",
              "6 The Man in the Iron Mask        1998     PG-13          35    56.876 132    \n",
              "  TaxaEspectadores Lucro \n",
              "1 4.3              -61.93\n",
              "2 5.2              -50.18\n",
              "3 5.8              -42.53\n",
              "4 6.4               65.42\n",
              "5 6.5               55.22\n",
              "6 6.5               21.88"
            ]
          },
          "metadata": {}
        }
      ]
    },
    {
      "cell_type": "markdown",
      "source": [
        "# 8) Encontre o valor mediano para o ano de produção"
      ],
      "metadata": {
        "id": "cvB5tUFAN2tw"
      }
    },
    {
      "cell_type": "code",
      "source": [
        "head(dados)"
      ],
      "metadata": {
        "colab": {
          "base_uri": "https://localhost:8080/",
          "height": 286
        },
        "id": "IogDSiu8N2V6",
        "outputId": "7cde2ca9-710e-40a1-8d09-91bad42996f1"
      },
      "execution_count": 127,
      "outputs": [
        {
          "output_type": "display_data",
          "data": {
            "text/html": [
              "<table class=\"dataframe\">\n",
              "<caption>A data.frame: 6 × 8</caption>\n",
              "<thead>\n",
              "\t<tr><th></th><th scope=col>Titulo</th><th scope=col>Producao</th><th scope=col>Classificacao</th><th scope=col>Gasto</th><th scope=col>Renda</th><th scope=col>Duracao</th><th scope=col>TaxaEspectadores</th><th scope=col>Lucro</th></tr>\n",
              "\t<tr><th></th><th scope=col>&lt;chr&gt;</th><th scope=col>&lt;int&gt;</th><th scope=col>&lt;chr&gt;</th><th scope=col>&lt;dbl&gt;</th><th scope=col>&lt;dbl&gt;</th><th scope=col>&lt;int&gt;</th><th scope=col>&lt;dbl&gt;</th><th scope=col>&lt;dbl&gt;</th></tr>\n",
              "</thead>\n",
              "<tbody>\n",
              "\t<tr><th scope=row>1</th><td>Aliens            </td><td>1986</td><td>R    </td><td> 18.50</td><td> 81.843</td><td>137</td><td>8.2</td><td>63.34</td></tr>\n",
              "\t<tr><th scope=row>2</th><td>Armageddon        </td><td>1998</td><td>PG-13</td><td>140.00</td><td>194.125</td><td>144</td><td>6.7</td><td>54.12</td></tr>\n",
              "\t<tr><th scope=row>3</th><td>As Good As It Gets</td><td>1997</td><td>PG-13</td><td> 50.00</td><td>147.540</td><td>138</td><td>8.1</td><td>97.54</td></tr>\n",
              "\t<tr><th scope=row>4</th><td>Braveheart        </td><td>1995</td><td>R    </td><td> 72.00</td><td> 75.600</td><td>177</td><td>8.3</td><td> 3.60</td></tr>\n",
              "\t<tr><th scope=row>5</th><td>Chasing Amy       </td><td>1997</td><td>R    </td><td>  0.25</td><td> 12.006</td><td>105</td><td>7.9</td><td>11.76</td></tr>\n",
              "\t<tr><th scope=row>6</th><td>Contact           </td><td>1997</td><td>PG   </td><td> 90.00</td><td>100.853</td><td>153</td><td>8.3</td><td>10.85</td></tr>\n",
              "</tbody>\n",
              "</table>\n"
            ],
            "text/markdown": "\nA data.frame: 6 × 8\n\n| <!--/--> | Titulo &lt;chr&gt; | Producao &lt;int&gt; | Classificacao &lt;chr&gt; | Gasto &lt;dbl&gt; | Renda &lt;dbl&gt; | Duracao &lt;int&gt; | TaxaEspectadores &lt;dbl&gt; | Lucro &lt;dbl&gt; |\n|---|---|---|---|---|---|---|---|---|\n| 1 | Aliens             | 1986 | R     |  18.50 |  81.843 | 137 | 8.2 | 63.34 |\n| 2 | Armageddon         | 1998 | PG-13 | 140.00 | 194.125 | 144 | 6.7 | 54.12 |\n| 3 | As Good As It Gets | 1997 | PG-13 |  50.00 | 147.540 | 138 | 8.1 | 97.54 |\n| 4 | Braveheart         | 1995 | R     |  72.00 |  75.600 | 177 | 8.3 |  3.60 |\n| 5 | Chasing Amy        | 1997 | R     |   0.25 |  12.006 | 105 | 7.9 | 11.76 |\n| 6 | Contact            | 1997 | PG    |  90.00 | 100.853 | 153 | 8.3 | 10.85 |\n\n",
            "text/latex": "A data.frame: 6 × 8\n\\begin{tabular}{r|llllllll}\n  & Titulo & Producao & Classificacao & Gasto & Renda & Duracao & TaxaEspectadores & Lucro\\\\\n  & <chr> & <int> & <chr> & <dbl> & <dbl> & <int> & <dbl> & <dbl>\\\\\n\\hline\n\t1 & Aliens             & 1986 & R     &  18.50 &  81.843 & 137 & 8.2 & 63.34\\\\\n\t2 & Armageddon         & 1998 & PG-13 & 140.00 & 194.125 & 144 & 6.7 & 54.12\\\\\n\t3 & As Good As It Gets & 1997 & PG-13 &  50.00 & 147.540 & 138 & 8.1 & 97.54\\\\\n\t4 & Braveheart         & 1995 & R     &  72.00 &  75.600 & 177 & 8.3 &  3.60\\\\\n\t5 & Chasing Amy        & 1997 & R     &   0.25 &  12.006 & 105 & 7.9 & 11.76\\\\\n\t6 & Contact            & 1997 & PG    &  90.00 & 100.853 & 153 & 8.3 & 10.85\\\\\n\\end{tabular}\n",
            "text/plain": [
              "  Titulo             Producao Classificacao Gasto  Renda   Duracao\n",
              "1 Aliens             1986     R              18.50  81.843 137    \n",
              "2 Armageddon         1998     PG-13         140.00 194.125 144    \n",
              "3 As Good As It Gets 1997     PG-13          50.00 147.540 138    \n",
              "4 Braveheart         1995     R              72.00  75.600 177    \n",
              "5 Chasing Amy        1997     R               0.25  12.006 105    \n",
              "6 Contact            1997     PG             90.00 100.853 153    \n",
              "  TaxaEspectadores Lucro\n",
              "1 8.2              63.34\n",
              "2 6.7              54.12\n",
              "3 8.1              97.54\n",
              "4 8.3               3.60\n",
              "5 7.9              11.76\n",
              "6 8.3              10.85"
            ]
          },
          "metadata": {}
        }
      ]
    },
    {
      "cell_type": "code",
      "source": [
        "# Calcular a mediana da coluna 'Producao'\n",
        "medianaProducao <- median(dados$Producao)\n",
        "medianaProducao"
      ],
      "metadata": {
        "colab": {
          "base_uri": "https://localhost:8080/",
          "height": 34
        },
        "id": "xCCRooA4OA_H",
        "outputId": "d44d0280-242d-4b1d-9c54-f56cd11d3385"
      },
      "execution_count": 128,
      "outputs": [
        {
          "output_type": "display_data",
          "data": {
            "text/html": [
              "1996"
            ],
            "text/markdown": "1996",
            "text/latex": "1996",
            "text/plain": [
              "[1] 1996"
            ]
          },
          "metadata": {}
        }
      ]
    },
    {
      "cell_type": "markdown",
      "source": [
        "# 9) Exibir um gráfico de barras ou de dispersão (Ano x Qtd. de filmes produzidos)"
      ],
      "metadata": {
        "id": "p5w6ObQKOTTP"
      }
    },
    {
      "cell_type": "code",
      "source": [
        "# Utilizar a variável 'anoProducaoGrupo' para exibir o gráfico solicitado.\n",
        "head(anoProducaoGrupo)"
      ],
      "metadata": {
        "colab": {
          "base_uri": "https://localhost:8080/",
          "height": 286
        },
        "id": "v10nwnxLPgtU",
        "outputId": "e9e3dd26-b325-4601-f78c-4a6043343a91"
      },
      "execution_count": 129,
      "outputs": [
        {
          "output_type": "display_data",
          "data": {
            "text/html": [
              "<table class=\"dataframe\">\n",
              "<caption>A grouped_df: 6 × 2</caption>\n",
              "<thead>\n",
              "\t<tr><th scope=col>dados$Producao</th><th scope=col>n</th></tr>\n",
              "\t<tr><th scope=col>&lt;int&gt;</th><th scope=col>&lt;int&gt;</th></tr>\n",
              "</thead>\n",
              "<tbody>\n",
              "\t<tr><td>1939</td><td>1</td></tr>\n",
              "\t<tr><td>1975</td><td>1</td></tr>\n",
              "\t<tr><td>1978</td><td>2</td></tr>\n",
              "\t<tr><td>1981</td><td>1</td></tr>\n",
              "\t<tr><td>1984</td><td>1</td></tr>\n",
              "\t<tr><td>1986</td><td>1</td></tr>\n",
              "</tbody>\n",
              "</table>\n"
            ],
            "text/markdown": "\nA grouped_df: 6 × 2\n\n| dados$Producao &lt;int&gt; | n &lt;int&gt; |\n|---|---|\n| 1939 | 1 |\n| 1975 | 1 |\n| 1978 | 2 |\n| 1981 | 1 |\n| 1984 | 1 |\n| 1986 | 1 |\n\n",
            "text/latex": "A grouped\\_df: 6 × 2\n\\begin{tabular}{ll}\n dados\\$Producao & n\\\\\n <int> & <int>\\\\\n\\hline\n\t 1939 & 1\\\\\n\t 1975 & 1\\\\\n\t 1978 & 2\\\\\n\t 1981 & 1\\\\\n\t 1984 & 1\\\\\n\t 1986 & 1\\\\\n\\end{tabular}\n",
            "text/plain": [
              "  dados$Producao n\n",
              "1 1939           1\n",
              "2 1975           1\n",
              "3 1978           2\n",
              "4 1981           1\n",
              "5 1984           1\n",
              "6 1986           1"
            ]
          },
          "metadata": {}
        }
      ]
    },
    {
      "cell_type": "code",
      "source": [
        "library('tidyverse')"
      ],
      "metadata": {
        "id": "5XX1YL24QMHS"
      },
      "execution_count": 130,
      "outputs": []
    },
    {
      "cell_type": "code",
      "source": [
        "# Converter a variável 'anoProducaoGrupo' para o tipo data.frame.\n",
        "anoProducaoGrupoDf <- data.frame(anoProducaoGrupo)\n",
        "head(anoProducaoGrupoDf)"
      ],
      "metadata": {
        "colab": {
          "base_uri": "https://localhost:8080/",
          "height": 286
        },
        "id": "46ziR8Y6OiFT",
        "outputId": "d87edebe-f3d1-4e27-f320-41f89b8241a0"
      },
      "execution_count": 181,
      "outputs": [
        {
          "output_type": "display_data",
          "data": {
            "text/html": [
              "<table class=\"dataframe\">\n",
              "<caption>A data.frame: 6 × 2</caption>\n",
              "<thead>\n",
              "\t<tr><th></th><th scope=col>dados.Producao</th><th scope=col>n</th></tr>\n",
              "\t<tr><th></th><th scope=col>&lt;int&gt;</th><th scope=col>&lt;int&gt;</th></tr>\n",
              "</thead>\n",
              "<tbody>\n",
              "\t<tr><th scope=row>1</th><td>1939</td><td>1</td></tr>\n",
              "\t<tr><th scope=row>2</th><td>1975</td><td>1</td></tr>\n",
              "\t<tr><th scope=row>3</th><td>1978</td><td>2</td></tr>\n",
              "\t<tr><th scope=row>4</th><td>1981</td><td>1</td></tr>\n",
              "\t<tr><th scope=row>5</th><td>1984</td><td>1</td></tr>\n",
              "\t<tr><th scope=row>6</th><td>1986</td><td>1</td></tr>\n",
              "</tbody>\n",
              "</table>\n"
            ],
            "text/markdown": "\nA data.frame: 6 × 2\n\n| <!--/--> | dados.Producao &lt;int&gt; | n &lt;int&gt; |\n|---|---|---|\n| 1 | 1939 | 1 |\n| 2 | 1975 | 1 |\n| 3 | 1978 | 2 |\n| 4 | 1981 | 1 |\n| 5 | 1984 | 1 |\n| 6 | 1986 | 1 |\n\n",
            "text/latex": "A data.frame: 6 × 2\n\\begin{tabular}{r|ll}\n  & dados.Producao & n\\\\\n  & <int> & <int>\\\\\n\\hline\n\t1 & 1939 & 1\\\\\n\t2 & 1975 & 1\\\\\n\t3 & 1978 & 2\\\\\n\t4 & 1981 & 1\\\\\n\t5 & 1984 & 1\\\\\n\t6 & 1986 & 1\\\\\n\\end{tabular}\n",
            "text/plain": [
              "  dados.Producao n\n",
              "1 1939           1\n",
              "2 1975           1\n",
              "3 1978           2\n",
              "4 1981           1\n",
              "5 1984           1\n",
              "6 1986           1"
            ]
          },
          "metadata": {}
        }
      ]
    },
    {
      "cell_type": "code",
      "source": [
        "# Renomear a coluna 'dados.Producao' para 'Ano'\n",
        "anoProducaoGrupoDf<- rename(anoProducaoGrupoDf, Ano = dados.Producao)\n",
        "head(anoProducaoGrupoDf)"
      ],
      "metadata": {
        "colab": {
          "base_uri": "https://localhost:8080/",
          "height": 286
        },
        "id": "msMT04I2ZyRx",
        "outputId": "0bd244d9-2df1-451d-92c2-035b56c3ebae"
      },
      "execution_count": 183,
      "outputs": [
        {
          "output_type": "display_data",
          "data": {
            "text/html": [
              "<table class=\"dataframe\">\n",
              "<caption>A data.frame: 6 × 2</caption>\n",
              "<thead>\n",
              "\t<tr><th></th><th scope=col>Ano</th><th scope=col>n</th></tr>\n",
              "\t<tr><th></th><th scope=col>&lt;int&gt;</th><th scope=col>&lt;int&gt;</th></tr>\n",
              "</thead>\n",
              "<tbody>\n",
              "\t<tr><th scope=row>1</th><td>1939</td><td>1</td></tr>\n",
              "\t<tr><th scope=row>2</th><td>1975</td><td>1</td></tr>\n",
              "\t<tr><th scope=row>3</th><td>1978</td><td>2</td></tr>\n",
              "\t<tr><th scope=row>4</th><td>1981</td><td>1</td></tr>\n",
              "\t<tr><th scope=row>5</th><td>1984</td><td>1</td></tr>\n",
              "\t<tr><th scope=row>6</th><td>1986</td><td>1</td></tr>\n",
              "</tbody>\n",
              "</table>\n"
            ],
            "text/markdown": "\nA data.frame: 6 × 2\n\n| <!--/--> | Ano &lt;int&gt; | n &lt;int&gt; |\n|---|---|---|\n| 1 | 1939 | 1 |\n| 2 | 1975 | 1 |\n| 3 | 1978 | 2 |\n| 4 | 1981 | 1 |\n| 5 | 1984 | 1 |\n| 6 | 1986 | 1 |\n\n",
            "text/latex": "A data.frame: 6 × 2\n\\begin{tabular}{r|ll}\n  & Ano & n\\\\\n  & <int> & <int>\\\\\n\\hline\n\t1 & 1939 & 1\\\\\n\t2 & 1975 & 1\\\\\n\t3 & 1978 & 2\\\\\n\t4 & 1981 & 1\\\\\n\t5 & 1984 & 1\\\\\n\t6 & 1986 & 1\\\\\n\\end{tabular}\n",
            "text/plain": [
              "  Ano  n\n",
              "1 1939 1\n",
              "2 1975 1\n",
              "3 1978 2\n",
              "4 1981 1\n",
              "5 1984 1\n",
              "6 1986 1"
            ]
          },
          "metadata": {}
        }
      ]
    },
    {
      "cell_type": "code",
      "source": [
        "# Utilizar a função 'ggplot' disponível na biblioteca 'tidyverse'.\n",
        "# A função 'geom_point' para gráfico de dispersão.\n",
        "ggplot(data = anoProducaoGrupoDf, mapping = aes(x = Ano, y = n)) + \n",
        "  geom_point(size=3, alpha=.7) +\n",
        "  theme_classic(base_size = 18) +\n",
        "  labs(title = \"Qtd. de filmes produzidos por ano\", x = 'Ano de Produção',)\n",
        " "
      ],
      "metadata": {
        "colab": {
          "base_uri": "https://localhost:8080/",
          "height": 437
        },
        "id": "wd_K3JjRTBiK",
        "outputId": "8f412cb7-683c-4088-e341-e1d112bdf2ab"
      },
      "execution_count": 184,
      "outputs": [
        {
          "output_type": "display_data",
          "data": {
            "text/plain": [
              "plot without title"
            ],
            "image/png": "[encoded data removed]"
          },
          "metadata": {
            "image/png": {
              "width": 420,
              "height": 420
            }
          }
        }
      ]
    },
    {
      "cell_type": "code",
      "source": [
        "# A função 'geom_bar' para gráfico de barras.\n",
        "ggplot(data = anoProducaoGrupoDf, mapping = aes(x = Ano, y = n)) +\n",
        "  geom_bar(stat = 'identity', fill = gray(.3)) + \n",
        "  theme_classic(base_size = 18) +\n",
        "  labs(title = \"Qtd. de filmes produzidos por ano\", x = 'Ano de Produção',)"
      ],
      "metadata": {
        "colab": {
          "base_uri": "https://localhost:8080/",
          "height": 437
        },
        "id": "3Ig-f4OJVQ8Z",
        "outputId": "aed0bf3b-75cf-4959-bb62-c8ef4377e7cd"
      },
      "execution_count": 185,
      "outputs": [
        {
          "output_type": "display_data",
          "data": {
            "text/plain": [
              "plot without title"
            ],
            "image/png": "[encoded data removed]"
          },
          "metadata": {
            "image/png": {
              "width": 420,
              "height": 420
            }
          }
        }
      ]
    },
    {
      "cell_type": "markdown",
      "source": [
        "# 10) Exibir um gráfico de dispersão (Ano x Qtd. de filmes produzidos x Lucro)"
      ],
      "metadata": {
        "id": "6f4_D4CUmSqp"
      }
    },
    {
      "cell_type": "code",
      "source": [
        "# Calcular o lucro total para cada ano de produção .\n",
        "anoProducaoLucroGrupo <- dados %>% group_by(dados$Producao) %>% summarise(sum(Lucro)) \n",
        "head(anoProducaoLucroGrupo)"
      ],
      "metadata": {
        "colab": {
          "base_uri": "https://localhost:8080/",
          "height": 286
        },
        "id": "8RribXAkWPqc",
        "outputId": "6def0106-edbf-43bf-d52d-d9ae8c4d4011"
      },
      "execution_count": 150,
      "outputs": [
        {
          "output_type": "display_data",
          "data": {
            "text/html": [
              "<table class=\"dataframe\">\n",
              "<caption>A tibble: 6 × 2</caption>\n",
              "<thead>\n",
              "\t<tr><th scope=col>dados$Producao</th><th scope=col>sum(Lucro)</th></tr>\n",
              "\t<tr><th scope=col>&lt;int&gt;</th><th scope=col>&lt;dbl&gt;</th></tr>\n",
              "</thead>\n",
              "<tbody>\n",
              "\t<tr><td>1939</td><td>194.67</td></tr>\n",
              "\t<tr><td>1975</td><td>248.00</td></tr>\n",
              "\t<tr><td>1978</td><td>221.95</td></tr>\n",
              "\t<tr><td>1981</td><td>222.37</td></tr>\n",
              "\t<tr><td>1984</td><td> 30.50</td></tr>\n",
              "\t<tr><td>1986</td><td> 63.34</td></tr>\n",
              "</tbody>\n",
              "</table>\n"
            ],
            "text/markdown": "\nA tibble: 6 × 2\n\n| dados$Producao &lt;int&gt; | sum(Lucro) &lt;dbl&gt; |\n|---|---|\n| 1939 | 194.67 |\n| 1975 | 248.00 |\n| 1978 | 221.95 |\n| 1981 | 222.37 |\n| 1984 |  30.50 |\n| 1986 |  63.34 |\n\n",
            "text/latex": "A tibble: 6 × 2\n\\begin{tabular}{ll}\n dados\\$Producao & sum(Lucro)\\\\\n <int> & <dbl>\\\\\n\\hline\n\t 1939 & 194.67\\\\\n\t 1975 & 248.00\\\\\n\t 1978 & 221.95\\\\\n\t 1981 & 222.37\\\\\n\t 1984 &  30.50\\\\\n\t 1986 &  63.34\\\\\n\\end{tabular}\n",
            "text/plain": [
              "  dados$Producao sum(Lucro)\n",
              "1 1939           194.67    \n",
              "2 1975           248.00    \n",
              "3 1978           221.95    \n",
              "4 1981           222.37    \n",
              "5 1984            30.50    \n",
              "6 1986            63.34    "
            ]
          },
          "metadata": {}
        }
      ]
    },
    {
      "cell_type": "code",
      "source": [
        "# Converter a variável 'anoProducaoLucroDf' para o tipo data.frame.\n",
        "anoProducaoLucroDf <- data.frame(anoProducaoLucroGrupo)\n",
        "head(anoProducaoLucroDf)"
      ],
      "metadata": {
        "colab": {
          "base_uri": "https://localhost:8080/",
          "height": 286
        },
        "id": "q-Gu3KzRcLlf",
        "outputId": "03237a08-bc2a-45b4-920f-e51294dae559"
      },
      "execution_count": 144,
      "outputs": [
        {
          "output_type": "display_data",
          "data": {
            "text/html": [
              "<table class=\"dataframe\">\n",
              "<caption>A data.frame: 6 × 2</caption>\n",
              "<thead>\n",
              "\t<tr><th></th><th scope=col>dados.Producao</th><th scope=col>sum.Lucro.</th></tr>\n",
              "\t<tr><th></th><th scope=col>&lt;int&gt;</th><th scope=col>&lt;dbl&gt;</th></tr>\n",
              "</thead>\n",
              "<tbody>\n",
              "\t<tr><th scope=row>1</th><td>1939</td><td>194.67</td></tr>\n",
              "\t<tr><th scope=row>2</th><td>1975</td><td>248.00</td></tr>\n",
              "\t<tr><th scope=row>3</th><td>1978</td><td>221.95</td></tr>\n",
              "\t<tr><th scope=row>4</th><td>1981</td><td>222.37</td></tr>\n",
              "\t<tr><th scope=row>5</th><td>1984</td><td> 30.50</td></tr>\n",
              "\t<tr><th scope=row>6</th><td>1986</td><td> 63.34</td></tr>\n",
              "</tbody>\n",
              "</table>\n"
            ],
            "text/markdown": "\nA data.frame: 6 × 2\n\n| <!--/--> | dados.Producao &lt;int&gt; | sum.Lucro. &lt;dbl&gt; |\n|---|---|---|\n| 1 | 1939 | 194.67 |\n| 2 | 1975 | 248.00 |\n| 3 | 1978 | 221.95 |\n| 4 | 1981 | 222.37 |\n| 5 | 1984 |  30.50 |\n| 6 | 1986 |  63.34 |\n\n",
            "text/latex": "A data.frame: 6 × 2\n\\begin{tabular}{r|ll}\n  & dados.Producao & sum.Lucro.\\\\\n  & <int> & <dbl>\\\\\n\\hline\n\t1 & 1939 & 194.67\\\\\n\t2 & 1975 & 248.00\\\\\n\t3 & 1978 & 221.95\\\\\n\t4 & 1981 & 222.37\\\\\n\t5 & 1984 &  30.50\\\\\n\t6 & 1986 &  63.34\\\\\n\\end{tabular}\n",
            "text/plain": [
              "  dados.Producao sum.Lucro.\n",
              "1 1939           194.67    \n",
              "2 1975           248.00    \n",
              "3 1978           221.95    \n",
              "4 1981           222.37    \n",
              "5 1984            30.50    \n",
              "6 1986            63.34    "
            ]
          },
          "metadata": {}
        }
      ]
    },
    {
      "cell_type": "code",
      "source": [
        "# Imprimir os nomes das colunas.\n",
        "colnames(anoProducaoLucroDf)"
      ],
      "metadata": {
        "colab": {
          "base_uri": "https://localhost:8080/",
          "height": 34
        },
        "id": "DWj4kK0Mbxhf",
        "outputId": "ba08d9ea-44cc-45cb-d5e9-c6e44b55d59d"
      },
      "execution_count": 145,
      "outputs": [
        {
          "output_type": "display_data",
          "data": {
            "text/html": [
              "<style>\n",
              ".list-inline {list-style: none; margin:0; padding: 0}\n",
              ".list-inline>li {display: inline-block}\n",
              ".list-inline>li:not(:last-child)::after {content: \"\\00b7\"; padding: 0 .5ex}\n",
              "</style>\n",
              "<ol class=list-inline><li>'dados.Producao'</li><li>'sum.Lucro.'</li></ol>\n"
            ],
            "text/markdown": "1. 'dados.Producao'\n2. 'sum.Lucro.'\n\n\n",
            "text/latex": "\\begin{enumerate*}\n\\item 'dados.Producao'\n\\item 'sum.Lucro.'\n\\end{enumerate*}\n",
            "text/plain": [
              "[1] \"dados.Producao\" \"sum.Lucro.\"    "
            ]
          },
          "metadata": {}
        }
      ]
    },
    {
      "cell_type": "code",
      "source": [
        "# Renomear a coluna 'dados.Producao' para 'Ano' e 'sum.Lucro.' para 'Lucro'.\n",
        "anoProducaoLucroDf <- rename(anoProducaoLucroDf, Ano = dados.Producao, Lucro = sum.Lucro.)\n",
        "head(anoProducaoLucroDf)"
      ],
      "metadata": {
        "colab": {
          "base_uri": "https://localhost:8080/",
          "height": 286
        },
        "id": "NEprzScXa-k6",
        "outputId": "b75d509c-1baa-4139-9356-50fb54459ee1"
      },
      "execution_count": 146,
      "outputs": [
        {
          "output_type": "display_data",
          "data": {
            "text/html": [
              "<table class=\"dataframe\">\n",
              "<caption>A data.frame: 6 × 2</caption>\n",
              "<thead>\n",
              "\t<tr><th></th><th scope=col>Ano</th><th scope=col>Lucro</th></tr>\n",
              "\t<tr><th></th><th scope=col>&lt;int&gt;</th><th scope=col>&lt;dbl&gt;</th></tr>\n",
              "</thead>\n",
              "<tbody>\n",
              "\t<tr><th scope=row>1</th><td>1939</td><td>194.67</td></tr>\n",
              "\t<tr><th scope=row>2</th><td>1975</td><td>248.00</td></tr>\n",
              "\t<tr><th scope=row>3</th><td>1978</td><td>221.95</td></tr>\n",
              "\t<tr><th scope=row>4</th><td>1981</td><td>222.37</td></tr>\n",
              "\t<tr><th scope=row>5</th><td>1984</td><td> 30.50</td></tr>\n",
              "\t<tr><th scope=row>6</th><td>1986</td><td> 63.34</td></tr>\n",
              "</tbody>\n",
              "</table>\n"
            ],
            "text/markdown": "\nA data.frame: 6 × 2\n\n| <!--/--> | Ano &lt;int&gt; | Lucro &lt;dbl&gt; |\n|---|---|---|\n| 1 | 1939 | 194.67 |\n| 2 | 1975 | 248.00 |\n| 3 | 1978 | 221.95 |\n| 4 | 1981 | 222.37 |\n| 5 | 1984 |  30.50 |\n| 6 | 1986 |  63.34 |\n\n",
            "text/latex": "A data.frame: 6 × 2\n\\begin{tabular}{r|ll}\n  & Ano & Lucro\\\\\n  & <int> & <dbl>\\\\\n\\hline\n\t1 & 1939 & 194.67\\\\\n\t2 & 1975 & 248.00\\\\\n\t3 & 1978 & 221.95\\\\\n\t4 & 1981 & 222.37\\\\\n\t5 & 1984 &  30.50\\\\\n\t6 & 1986 &  63.34\\\\\n\\end{tabular}\n",
            "text/plain": [
              "  Ano  Lucro \n",
              "1 1939 194.67\n",
              "2 1975 248.00\n",
              "3 1978 221.95\n",
              "4 1981 222.37\n",
              "5 1984  30.50\n",
              "6 1986  63.34"
            ]
          },
          "metadata": {}
        }
      ]
    },
    {
      "cell_type": "code",
      "source": [
        "# Criar uma nova tabela com os dados de quantidade e lucro por ano de produção.\n",
        "anoProducaoLucro <- cbind(anoProducaoGrupoDf, Lucro = anoProducaoLucroDf$Lucro)\n",
        "head(anoProducaoLucro)"
      ],
      "metadata": {
        "colab": {
          "base_uri": "https://localhost:8080/",
          "height": 286
        },
        "id": "Dt_a9qBvYz31",
        "outputId": "5284f04c-b3ea-45d8-aa3d-7f408b43cb33"
      },
      "execution_count": 151,
      "outputs": [
        {
          "output_type": "display_data",
          "data": {
            "text/html": [
              "<table class=\"dataframe\">\n",
              "<caption>A data.frame: 6 × 3</caption>\n",
              "<thead>\n",
              "\t<tr><th></th><th scope=col>Ano</th><th scope=col>n</th><th scope=col>Lucro</th></tr>\n",
              "\t<tr><th></th><th scope=col>&lt;int&gt;</th><th scope=col>&lt;int&gt;</th><th scope=col>&lt;dbl&gt;</th></tr>\n",
              "</thead>\n",
              "<tbody>\n",
              "\t<tr><th scope=row>1</th><td>1939</td><td>1</td><td>194.67</td></tr>\n",
              "\t<tr><th scope=row>2</th><td>1975</td><td>1</td><td>248.00</td></tr>\n",
              "\t<tr><th scope=row>3</th><td>1978</td><td>2</td><td>221.95</td></tr>\n",
              "\t<tr><th scope=row>4</th><td>1981</td><td>1</td><td>222.37</td></tr>\n",
              "\t<tr><th scope=row>5</th><td>1984</td><td>1</td><td> 30.50</td></tr>\n",
              "\t<tr><th scope=row>6</th><td>1986</td><td>1</td><td> 63.34</td></tr>\n",
              "</tbody>\n",
              "</table>\n"
            ],
            "text/markdown": "\nA data.frame: 6 × 3\n\n| <!--/--> | Ano &lt;int&gt; | n &lt;int&gt; | Lucro &lt;dbl&gt; |\n|---|---|---|---|\n| 1 | 1939 | 1 | 194.67 |\n| 2 | 1975 | 1 | 248.00 |\n| 3 | 1978 | 2 | 221.95 |\n| 4 | 1981 | 1 | 222.37 |\n| 5 | 1984 | 1 |  30.50 |\n| 6 | 1986 | 1 |  63.34 |\n\n",
            "text/latex": "A data.frame: 6 × 3\n\\begin{tabular}{r|lll}\n  & Ano & n & Lucro\\\\\n  & <int> & <int> & <dbl>\\\\\n\\hline\n\t1 & 1939 & 1 & 194.67\\\\\n\t2 & 1975 & 1 & 248.00\\\\\n\t3 & 1978 & 2 & 221.95\\\\\n\t4 & 1981 & 1 & 222.37\\\\\n\t5 & 1984 & 1 &  30.50\\\\\n\t6 & 1986 & 1 &  63.34\\\\\n\\end{tabular}\n",
            "text/plain": [
              "  Ano  n Lucro \n",
              "1 1939 1 194.67\n",
              "2 1975 1 248.00\n",
              "3 1978 2 221.95\n",
              "4 1981 1 222.37\n",
              "5 1984 1  30.50\n",
              "6 1986 1  63.34"
            ]
          },
          "metadata": {}
        }
      ]
    },
    {
      "cell_type": "code",
      "source": [
        "# O tamanho dos pontos representa o lucro total em determinado ano de produção.\n",
        "ggplot(data = anoProducaoLucro, mapping = aes(x = Ano, y = n, size = Lucro) ) +\n",
        "  geom_point(alpha=(.7)) + \n",
        "  theme_classic(base_size = 18) +\n",
        "  labs(title = \"Qtd. de Filmes e Lucro por Ano de Produção\", x = 'Ano de Produção',)"
      ],
      "metadata": {
        "colab": {
          "base_uri": "https://localhost:8080/",
          "height": 437
        },
        "id": "VmbpBhFMfAE0",
        "outputId": "9f135aca-35cc-439c-8301-63aefc98a7c7"
      },
      "execution_count": 190,
      "outputs": [
        {
          "output_type": "display_data",
          "data": {
            "text/plain": [
              "plot without title"
            ],
            "image/png": "[encoded data removed]"
          },
          "metadata": {
            "image/png": {
              "width": 420,
              "height": 420
            }
          }
        }
      ]
    }
  ]
}